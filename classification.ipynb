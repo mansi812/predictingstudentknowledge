{
 "cells": [
  {
   "cell_type": "code",
   "execution_count": 1,
   "id": "a0a0318c",
   "metadata": {},
   "outputs": [],
   "source": [
    "import pandas as pd"
   ]
  },
  {
   "cell_type": "code",
   "execution_count": 2,
   "id": "acd4c7f4",
   "metadata": {},
   "outputs": [
    {
     "data": {
      "text/html": [
       "<div>\n",
       "<style scoped>\n",
       "    .dataframe tbody tr th:only-of-type {\n",
       "        vertical-align: middle;\n",
       "    }\n",
       "\n",
       "    .dataframe tbody tr th {\n",
       "        vertical-align: top;\n",
       "    }\n",
       "\n",
       "    .dataframe thead th {\n",
       "        text-align: right;\n",
       "    }\n",
       "</style>\n",
       "<table border=\"1\" class=\"dataframe\">\n",
       "  <thead>\n",
       "    <tr style=\"text-align: right;\">\n",
       "      <th></th>\n",
       "      <th>STG</th>\n",
       "      <th>SCG</th>\n",
       "      <th>STR</th>\n",
       "      <th>LPR</th>\n",
       "      <th>PEG</th>\n",
       "      <th>UNS</th>\n",
       "    </tr>\n",
       "  </thead>\n",
       "  <tbody>\n",
       "    <tr>\n",
       "      <th>0</th>\n",
       "      <td>0.00</td>\n",
       "      <td>0.00</td>\n",
       "      <td>0.00</td>\n",
       "      <td>0.00</td>\n",
       "      <td>0.00</td>\n",
       "      <td>very_low</td>\n",
       "    </tr>\n",
       "    <tr>\n",
       "      <th>1</th>\n",
       "      <td>0.08</td>\n",
       "      <td>0.08</td>\n",
       "      <td>0.10</td>\n",
       "      <td>0.24</td>\n",
       "      <td>0.90</td>\n",
       "      <td>High</td>\n",
       "    </tr>\n",
       "    <tr>\n",
       "      <th>2</th>\n",
       "      <td>0.06</td>\n",
       "      <td>0.06</td>\n",
       "      <td>0.05</td>\n",
       "      <td>0.25</td>\n",
       "      <td>0.33</td>\n",
       "      <td>Low</td>\n",
       "    </tr>\n",
       "    <tr>\n",
       "      <th>3</th>\n",
       "      <td>0.10</td>\n",
       "      <td>0.10</td>\n",
       "      <td>0.15</td>\n",
       "      <td>0.65</td>\n",
       "      <td>0.30</td>\n",
       "      <td>Middle</td>\n",
       "    </tr>\n",
       "    <tr>\n",
       "      <th>4</th>\n",
       "      <td>0.08</td>\n",
       "      <td>0.08</td>\n",
       "      <td>0.08</td>\n",
       "      <td>0.98</td>\n",
       "      <td>0.24</td>\n",
       "      <td>Low</td>\n",
       "    </tr>\n",
       "    <tr>\n",
       "      <th>5</th>\n",
       "      <td>0.09</td>\n",
       "      <td>0.15</td>\n",
       "      <td>0.40</td>\n",
       "      <td>0.10</td>\n",
       "      <td>0.66</td>\n",
       "      <td>Middle</td>\n",
       "    </tr>\n",
       "    <tr>\n",
       "      <th>6</th>\n",
       "      <td>0.10</td>\n",
       "      <td>0.10</td>\n",
       "      <td>0.43</td>\n",
       "      <td>0.29</td>\n",
       "      <td>0.56</td>\n",
       "      <td>Middle</td>\n",
       "    </tr>\n",
       "    <tr>\n",
       "      <th>7</th>\n",
       "      <td>0.15</td>\n",
       "      <td>0.02</td>\n",
       "      <td>0.34</td>\n",
       "      <td>0.40</td>\n",
       "      <td>0.01</td>\n",
       "      <td>very_low</td>\n",
       "    </tr>\n",
       "    <tr>\n",
       "      <th>8</th>\n",
       "      <td>0.20</td>\n",
       "      <td>0.14</td>\n",
       "      <td>0.35</td>\n",
       "      <td>0.72</td>\n",
       "      <td>0.25</td>\n",
       "      <td>Low</td>\n",
       "    </tr>\n",
       "    <tr>\n",
       "      <th>9</th>\n",
       "      <td>0.00</td>\n",
       "      <td>0.00</td>\n",
       "      <td>0.50</td>\n",
       "      <td>0.20</td>\n",
       "      <td>0.85</td>\n",
       "      <td>High</td>\n",
       "    </tr>\n",
       "  </tbody>\n",
       "</table>\n",
       "</div>"
      ],
      "text/plain": [
       "    STG   SCG   STR   LPR   PEG       UNS\n",
       "0  0.00  0.00  0.00  0.00  0.00  very_low\n",
       "1  0.08  0.08  0.10  0.24  0.90      High\n",
       "2  0.06  0.06  0.05  0.25  0.33       Low\n",
       "3  0.10  0.10  0.15  0.65  0.30    Middle\n",
       "4  0.08  0.08  0.08  0.98  0.24       Low\n",
       "5  0.09  0.15  0.40  0.10  0.66    Middle\n",
       "6  0.10  0.10  0.43  0.29  0.56    Middle\n",
       "7  0.15  0.02  0.34  0.40  0.01  very_low\n",
       "8  0.20  0.14  0.35  0.72  0.25       Low\n",
       "9  0.00  0.00  0.50  0.20  0.85      High"
      ]
     },
     "execution_count": 2,
     "metadata": {},
     "output_type": "execute_result"
    }
   ],
   "source": [
    "df=pd.read_excel('Predict_student_ knowledge_level.xls')\n",
    "df.head(10)"
   ]
  },
  {
   "cell_type": "markdown",
   "id": "9aa3e122",
   "metadata": {},
   "source": [
    "EDA\n",
    "Variable Description\n",
    "STG The degree of study time for goal object materials\n",
    "SCG The degree of repetition number of user for goal object materials\n",
    "STR The degree of study time of user for related objects with goal object\n",
    "LPR The exam performance of user for related objects with goal object\n",
    "PEG The exam performance of user for goal objects\n",
    "UNS The knowledge level of user (Very Low, Low, Middle, High)"
   ]
  },
  {
   "cell_type": "code",
   "execution_count": 3,
   "id": "cb324a55",
   "metadata": {},
   "outputs": [
    {
     "name": "stdout",
     "output_type": "stream",
     "text": [
      "<class 'pandas.core.frame.DataFrame'>\n",
      "RangeIndex: 403 entries, 0 to 402\n",
      "Data columns (total 6 columns):\n",
      " #   Column  Non-Null Count  Dtype  \n",
      "---  ------  --------------  -----  \n",
      " 0   STG     403 non-null    float64\n",
      " 1   SCG     403 non-null    float64\n",
      " 2   STR     403 non-null    float64\n",
      " 3   LPR     403 non-null    float64\n",
      " 4   PEG     403 non-null    float64\n",
      " 5    UNS    403 non-null    object \n",
      "dtypes: float64(5), object(1)\n",
      "memory usage: 19.0+ KB\n"
     ]
    }
   ],
   "source": [
    "df.info()"
   ]
  },
  {
   "cell_type": "code",
   "execution_count": 4,
   "id": "0ab06a5f",
   "metadata": {
    "scrolled": true
   },
   "outputs": [
    {
     "data": {
      "text/html": [
       "<div>\n",
       "<style scoped>\n",
       "    .dataframe tbody tr th:only-of-type {\n",
       "        vertical-align: middle;\n",
       "    }\n",
       "\n",
       "    .dataframe tbody tr th {\n",
       "        vertical-align: top;\n",
       "    }\n",
       "\n",
       "    .dataframe thead th {\n",
       "        text-align: right;\n",
       "    }\n",
       "</style>\n",
       "<table border=\"1\" class=\"dataframe\">\n",
       "  <thead>\n",
       "    <tr style=\"text-align: right;\">\n",
       "      <th></th>\n",
       "      <th>STG</th>\n",
       "      <th>SCG</th>\n",
       "      <th>STR</th>\n",
       "      <th>LPR</th>\n",
       "      <th>PEG</th>\n",
       "    </tr>\n",
       "  </thead>\n",
       "  <tbody>\n",
       "    <tr>\n",
       "      <th>count</th>\n",
       "      <td>403.000000</td>\n",
       "      <td>403.000000</td>\n",
       "      <td>403.000000</td>\n",
       "      <td>403.000000</td>\n",
       "      <td>403.000000</td>\n",
       "    </tr>\n",
       "    <tr>\n",
       "      <th>mean</th>\n",
       "      <td>0.353141</td>\n",
       "      <td>0.355940</td>\n",
       "      <td>0.457655</td>\n",
       "      <td>0.431342</td>\n",
       "      <td>0.456360</td>\n",
       "    </tr>\n",
       "    <tr>\n",
       "      <th>std</th>\n",
       "      <td>0.212018</td>\n",
       "      <td>0.215531</td>\n",
       "      <td>0.246684</td>\n",
       "      <td>0.257545</td>\n",
       "      <td>0.266775</td>\n",
       "    </tr>\n",
       "    <tr>\n",
       "      <th>min</th>\n",
       "      <td>0.000000</td>\n",
       "      <td>0.000000</td>\n",
       "      <td>0.000000</td>\n",
       "      <td>0.000000</td>\n",
       "      <td>0.000000</td>\n",
       "    </tr>\n",
       "    <tr>\n",
       "      <th>25%</th>\n",
       "      <td>0.200000</td>\n",
       "      <td>0.200000</td>\n",
       "      <td>0.265000</td>\n",
       "      <td>0.250000</td>\n",
       "      <td>0.250000</td>\n",
       "    </tr>\n",
       "    <tr>\n",
       "      <th>50%</th>\n",
       "      <td>0.300000</td>\n",
       "      <td>0.300000</td>\n",
       "      <td>0.440000</td>\n",
       "      <td>0.330000</td>\n",
       "      <td>0.400000</td>\n",
       "    </tr>\n",
       "    <tr>\n",
       "      <th>75%</th>\n",
       "      <td>0.480000</td>\n",
       "      <td>0.510000</td>\n",
       "      <td>0.680000</td>\n",
       "      <td>0.650000</td>\n",
       "      <td>0.660000</td>\n",
       "    </tr>\n",
       "    <tr>\n",
       "      <th>max</th>\n",
       "      <td>0.990000</td>\n",
       "      <td>0.900000</td>\n",
       "      <td>0.950000</td>\n",
       "      <td>0.990000</td>\n",
       "      <td>0.990000</td>\n",
       "    </tr>\n",
       "  </tbody>\n",
       "</table>\n",
       "</div>"
      ],
      "text/plain": [
       "              STG         SCG         STR         LPR         PEG\n",
       "count  403.000000  403.000000  403.000000  403.000000  403.000000\n",
       "mean     0.353141    0.355940    0.457655    0.431342    0.456360\n",
       "std      0.212018    0.215531    0.246684    0.257545    0.266775\n",
       "min      0.000000    0.000000    0.000000    0.000000    0.000000\n",
       "25%      0.200000    0.200000    0.265000    0.250000    0.250000\n",
       "50%      0.300000    0.300000    0.440000    0.330000    0.400000\n",
       "75%      0.480000    0.510000    0.680000    0.650000    0.660000\n",
       "max      0.990000    0.900000    0.950000    0.990000    0.990000"
      ]
     },
     "execution_count": 4,
     "metadata": {},
     "output_type": "execute_result"
    }
   ],
   "source": [
    "df.describe()"
   ]
  },
  {
   "cell_type": "code",
   "execution_count": null,
   "id": "9356ee9a",
   "metadata": {},
   "outputs": [],
   "source": []
  },
  {
   "cell_type": "code",
   "execution_count": 5,
   "id": "4c1e571d",
   "metadata": {},
   "outputs": [
    {
     "data": {
      "text/plain": [
       "STG     0\n",
       "SCG     0\n",
       "STR     0\n",
       "LPR     0\n",
       "PEG     0\n",
       " UNS    0\n",
       "dtype: int64"
      ]
     },
     "execution_count": 5,
     "metadata": {},
     "output_type": "execute_result"
    }
   ],
   "source": [
    "df.isnull().sum()"
   ]
  },
  {
   "cell_type": "code",
   "execution_count": 6,
   "id": "0bea09ba",
   "metadata": {},
   "outputs": [
    {
     "data": {
      "text/plain": [
       "Index(['STG', 'SCG', 'STR', 'LPR', 'PEG', 'UNS'], dtype='object')"
      ]
     },
     "execution_count": 6,
     "metadata": {},
     "output_type": "execute_result"
    }
   ],
   "source": [
    "#fix columns as there appears a space in column name UNS\n",
    "df.columns = [each.strip() for each in df.columns]\n",
    "df.columns"
   ]
  },
  {
   "cell_type": "code",
   "execution_count": 7,
   "id": "60bbda30",
   "metadata": {},
   "outputs": [
    {
     "data": {
      "text/plain": [
       "Low         129\n",
       "Middle      122\n",
       "High        102\n",
       "Very Low     26\n",
       "very_low     24\n",
       "Name: UNS, dtype: int64"
      ]
     },
     "execution_count": 7,
     "metadata": {},
     "output_type": "execute_result"
    }
   ],
   "source": [
    "df.UNS.value_counts()"
   ]
  },
  {
   "cell_type": "code",
   "execution_count": 8,
   "id": "44eaf5bc",
   "metadata": {},
   "outputs": [
    {
     "data": {
      "text/plain": [
       "low         129\n",
       "middle      122\n",
       "high        102\n",
       "very_low     50\n",
       "Name: UNS, dtype: int64"
      ]
     },
     "execution_count": 8,
     "metadata": {},
     "output_type": "execute_result"
    }
   ],
   "source": [
    "df.UNS=[each.lower().replace(\"very low\",\"very_low\") for each in df.UNS]\n",
    "df.UNS.value_counts()"
   ]
  },
  {
   "cell_type": "code",
   "execution_count": 9,
   "id": "534ab7f7",
   "metadata": {},
   "outputs": [],
   "source": [
    "import matplotlib.pyplot as plt\n",
    "\n",
    "def Bar_Plot(variable):\n",
    "    variableCount = df[variable].value_counts()\n",
    "    variableIndex = variableCount.index\n",
    "    \n",
    "    plt.figure(figsize = (9,5))\n",
    "    plt.bar(variableIndex,variableCount)\n",
    "    plt.xticks(variableIndex)\n",
    "    plt.title(variable)\n",
    "    plt.show()"
   ]
  },
  {
   "cell_type": "code",
   "execution_count": 10,
   "id": "f25e25f7",
   "metadata": {
    "scrolled": true
   },
   "outputs": [
    {
     "data": {
      "image/png": "[encoded data removed]",
      "text/plain": [
       "<Figure size 648x360 with 1 Axes>"
      ]
     },
     "metadata": {
      "needs_background": "light"
     },
     "output_type": "display_data"
    }
   ],
   "source": [
    "Bar_Plot(\"UNS\")"
   ]
  },
  {
   "cell_type": "code",
   "execution_count": 11,
   "id": "298c9ef9",
   "metadata": {},
   "outputs": [],
   "source": [
    "def Hist_Plot(variable):\n",
    "    \n",
    "    plt.figure(figsize = (9,4))\n",
    "    plt.hist(df[variable],bins=50)\n",
    "    plt.xlabel(variable)\n",
    "    plt.ylabel(\"Frequency\")\n",
    "    plt.title(variable)\n",
    "    plt.show()"
   ]
  },
  {
   "cell_type": "code",
   "execution_count": 12,
   "id": "e2751fc7",
   "metadata": {},
   "outputs": [
    {
     "data": {
      "image/png": "[encoded data removed]",
      "text/plain": [
       "<Figure size 648x288 with 1 Axes>"
      ]
     },
     "metadata": {
      "needs_background": "light"
     },
     "output_type": "display_data"
    },
    {
     "data": {
      "image/png": "[encoded data removed]",
      "text/plain": [
       "<Figure size 648x288 with 1 Axes>"
      ]
     },
     "metadata": {
      "needs_background": "light"
     },
     "output_type": "display_data"
    },
    {
     "data": {
      "image/png": "[encoded data removed]",
      "text/plain": [
       "<Figure size 648x288 with 1 Axes>"
      ]
     },
     "metadata": {
      "needs_background": "light"
     },
     "output_type": "display_data"
    },
    {
     "data": {
      "image/png": "[encoded data removed]",
      "text/plain": [
       "<Figure size 648x288 with 1 Axes>"
      ]
     },
     "metadata": {
      "needs_background": "light"
     },
     "output_type": "display_data"
    },
    {
     "data": {
      "image/png": "[encoded data removed]",
      "text/plain": [
       "<Figure size 648x288 with 1 Axes>"
      ]
     },
     "metadata": {
      "needs_background": "light"
     },
     "output_type": "display_data"
    }
   ],
   "source": [
    "NumericalColumns = [\"STG\",\"SCG\",\"STR\",\"LPR\",\"PEG\"]\n",
    "for each in NumericalColumns:\n",
    "    Hist_Plot(each)"
   ]
  },
  {
   "cell_type": "code",
   "execution_count": 14,
   "id": "324d4aca",
   "metadata": {},
   "outputs": [
    {
     "data": {
      "text/html": [
       "<div>\n",
       "<style scoped>\n",
       "    .dataframe tbody tr th:only-of-type {\n",
       "        vertical-align: middle;\n",
       "    }\n",
       "\n",
       "    .dataframe tbody tr th {\n",
       "        vertical-align: top;\n",
       "    }\n",
       "\n",
       "    .dataframe thead th {\n",
       "        text-align: right;\n",
       "    }\n",
       "</style>\n",
       "<table border=\"1\" class=\"dataframe\">\n",
       "  <thead>\n",
       "    <tr style=\"text-align: right;\">\n",
       "      <th></th>\n",
       "      <th>UNS</th>\n",
       "      <th>STG</th>\n",
       "    </tr>\n",
       "  </thead>\n",
       "  <tbody>\n",
       "    <tr>\n",
       "      <th>0</th>\n",
       "      <td>high</td>\n",
       "      <td>0.406902</td>\n",
       "    </tr>\n",
       "    <tr>\n",
       "      <th>2</th>\n",
       "      <td>middle</td>\n",
       "      <td>0.374574</td>\n",
       "    </tr>\n",
       "    <tr>\n",
       "      <th>1</th>\n",
       "      <td>low</td>\n",
       "      <td>0.326783</td>\n",
       "    </tr>\n",
       "    <tr>\n",
       "      <th>3</th>\n",
       "      <td>very_low</td>\n",
       "      <td>0.259180</td>\n",
       "    </tr>\n",
       "  </tbody>\n",
       "</table>\n",
       "</div>"
      ],
      "text/plain": [
       "        UNS       STG\n",
       "0      high  0.406902\n",
       "2    middle  0.374574\n",
       "1       low  0.326783\n",
       "3  very_low  0.259180"
      ]
     },
     "execution_count": 14,
     "metadata": {},
     "output_type": "execute_result"
    }
   ],
   "source": [
    "#Data analysis\n",
    "df[[\"UNS\",\"STG\"]].groupby([\"UNS\"],as_index=False).mean().sort_values(by=\"STG\",ascending=False)"
   ]
  },
  {
   "cell_type": "code",
   "execution_count": 15,
   "id": "f46cd096",
   "metadata": {},
   "outputs": [
    {
     "data": {
      "text/html": [
       "<div>\n",
       "<style scoped>\n",
       "    .dataframe tbody tr th:only-of-type {\n",
       "        vertical-align: middle;\n",
       "    }\n",
       "\n",
       "    .dataframe tbody tr th {\n",
       "        vertical-align: top;\n",
       "    }\n",
       "\n",
       "    .dataframe thead th {\n",
       "        text-align: right;\n",
       "    }\n",
       "</style>\n",
       "<table border=\"1\" class=\"dataframe\">\n",
       "  <thead>\n",
       "    <tr style=\"text-align: right;\">\n",
       "      <th></th>\n",
       "      <th>UNS</th>\n",
       "      <th>SCG</th>\n",
       "    </tr>\n",
       "  </thead>\n",
       "  <tbody>\n",
       "    <tr>\n",
       "      <th>0</th>\n",
       "      <td>high</td>\n",
       "      <td>0.430500</td>\n",
       "    </tr>\n",
       "    <tr>\n",
       "      <th>2</th>\n",
       "      <td>middle</td>\n",
       "      <td>0.367189</td>\n",
       "    </tr>\n",
       "    <tr>\n",
       "      <th>1</th>\n",
       "      <td>low</td>\n",
       "      <td>0.322798</td>\n",
       "    </tr>\n",
       "    <tr>\n",
       "      <th>3</th>\n",
       "      <td>very_low</td>\n",
       "      <td>0.261900</td>\n",
       "    </tr>\n",
       "  </tbody>\n",
       "</table>\n",
       "</div>"
      ],
      "text/plain": [
       "        UNS       SCG\n",
       "0      high  0.430500\n",
       "2    middle  0.367189\n",
       "1       low  0.322798\n",
       "3  very_low  0.261900"
      ]
     },
     "execution_count": 15,
     "metadata": {},
     "output_type": "execute_result"
    }
   ],
   "source": [
    "df[[\"UNS\",\"SCG\"]].groupby([\"UNS\"],as_index=False).mean().sort_values(by=\"SCG\",ascending=False)"
   ]
  },
  {
   "cell_type": "code",
   "execution_count": 16,
   "id": "44de8b4e",
   "metadata": {},
   "outputs": [
    {
     "data": {
      "text/html": [
       "<div>\n",
       "<style scoped>\n",
       "    .dataframe tbody tr th:only-of-type {\n",
       "        vertical-align: middle;\n",
       "    }\n",
       "\n",
       "    .dataframe tbody tr th {\n",
       "        vertical-align: top;\n",
       "    }\n",
       "\n",
       "    .dataframe thead th {\n",
       "        text-align: right;\n",
       "    }\n",
       "</style>\n",
       "<table border=\"1\" class=\"dataframe\">\n",
       "  <thead>\n",
       "    <tr style=\"text-align: right;\">\n",
       "      <th></th>\n",
       "      <th>UNS</th>\n",
       "      <th>STR</th>\n",
       "    </tr>\n",
       "  </thead>\n",
       "  <tbody>\n",
       "    <tr>\n",
       "      <th>0</th>\n",
       "      <td>high</td>\n",
       "      <td>0.509755</td>\n",
       "    </tr>\n",
       "    <tr>\n",
       "      <th>2</th>\n",
       "      <td>middle</td>\n",
       "      <td>0.491148</td>\n",
       "    </tr>\n",
       "    <tr>\n",
       "      <th>1</th>\n",
       "      <td>low</td>\n",
       "      <td>0.424961</td>\n",
       "    </tr>\n",
       "    <tr>\n",
       "      <th>3</th>\n",
       "      <td>very_low</td>\n",
       "      <td>0.354000</td>\n",
       "    </tr>\n",
       "  </tbody>\n",
       "</table>\n",
       "</div>"
      ],
      "text/plain": [
       "        UNS       STR\n",
       "0      high  0.509755\n",
       "2    middle  0.491148\n",
       "1       low  0.424961\n",
       "3  very_low  0.354000"
      ]
     },
     "execution_count": 16,
     "metadata": {},
     "output_type": "execute_result"
    }
   ],
   "source": [
    "df[[\"UNS\",\"STR\"]].groupby([\"UNS\"], as_index = False).mean().sort_values(by=\"STR\",ascending = False)"
   ]
  },
  {
   "cell_type": "code",
   "execution_count": 17,
   "id": "41075dcc",
   "metadata": {},
   "outputs": [
    {
     "data": {
      "text/html": [
       "<div>\n",
       "<style scoped>\n",
       "    .dataframe tbody tr th:only-of-type {\n",
       "        vertical-align: middle;\n",
       "    }\n",
       "\n",
       "    .dataframe tbody tr th {\n",
       "        vertical-align: top;\n",
       "    }\n",
       "\n",
       "    .dataframe thead th {\n",
       "        text-align: right;\n",
       "    }\n",
       "</style>\n",
       "<table border=\"1\" class=\"dataframe\">\n",
       "  <thead>\n",
       "    <tr style=\"text-align: right;\">\n",
       "      <th></th>\n",
       "      <th>UNS</th>\n",
       "      <th>LPR</th>\n",
       "    </tr>\n",
       "  </thead>\n",
       "  <tbody>\n",
       "    <tr>\n",
       "      <th>0</th>\n",
       "      <td>high</td>\n",
       "      <td>0.542941</td>\n",
       "    </tr>\n",
       "    <tr>\n",
       "      <th>1</th>\n",
       "      <td>low</td>\n",
       "      <td>0.449302</td>\n",
       "    </tr>\n",
       "    <tr>\n",
       "      <th>2</th>\n",
       "      <td>middle</td>\n",
       "      <td>0.385656</td>\n",
       "    </tr>\n",
       "    <tr>\n",
       "      <th>3</th>\n",
       "      <td>very_low</td>\n",
       "      <td>0.268820</td>\n",
       "    </tr>\n",
       "  </tbody>\n",
       "</table>\n",
       "</div>"
      ],
      "text/plain": [
       "        UNS       LPR\n",
       "0      high  0.542941\n",
       "1       low  0.449302\n",
       "2    middle  0.385656\n",
       "3  very_low  0.268820"
      ]
     },
     "execution_count": 17,
     "metadata": {},
     "output_type": "execute_result"
    }
   ],
   "source": [
    "df[[\"UNS\",\"LPR\"]].groupby([\"UNS\"], as_index = False).mean().sort_values(by=\"LPR\",ascending = False)"
   ]
  },
  {
   "cell_type": "code",
   "execution_count": 18,
   "id": "a71d18a4",
   "metadata": {},
   "outputs": [
    {
     "data": {
      "text/html": [
       "<div>\n",
       "<style scoped>\n",
       "    .dataframe tbody tr th:only-of-type {\n",
       "        vertical-align: middle;\n",
       "    }\n",
       "\n",
       "    .dataframe tbody tr th {\n",
       "        vertical-align: top;\n",
       "    }\n",
       "\n",
       "    .dataframe thead th {\n",
       "        text-align: right;\n",
       "    }\n",
       "</style>\n",
       "<table border=\"1\" class=\"dataframe\">\n",
       "  <thead>\n",
       "    <tr style=\"text-align: right;\">\n",
       "      <th></th>\n",
       "      <th>UNS</th>\n",
       "      <th>PEG</th>\n",
       "    </tr>\n",
       "  </thead>\n",
       "  <tbody>\n",
       "    <tr>\n",
       "      <th>0</th>\n",
       "      <td>high</td>\n",
       "      <td>0.799804</td>\n",
       "    </tr>\n",
       "    <tr>\n",
       "      <th>2</th>\n",
       "      <td>middle</td>\n",
       "      <td>0.531393</td>\n",
       "    </tr>\n",
       "    <tr>\n",
       "      <th>1</th>\n",
       "      <td>low</td>\n",
       "      <td>0.253589</td>\n",
       "    </tr>\n",
       "    <tr>\n",
       "      <th>3</th>\n",
       "      <td>very_low</td>\n",
       "      <td>0.095800</td>\n",
       "    </tr>\n",
       "  </tbody>\n",
       "</table>\n",
       "</div>"
      ],
      "text/plain": [
       "        UNS       PEG\n",
       "0      high  0.799804\n",
       "2    middle  0.531393\n",
       "1       low  0.253589\n",
       "3  very_low  0.095800"
      ]
     },
     "execution_count": 18,
     "metadata": {},
     "output_type": "execute_result"
    }
   ],
   "source": [
    "df[[\"UNS\",\"PEG\"]].groupby([\"UNS\"], as_index = False).mean().sort_values(by=\"PEG\",ascending = False)"
   ]
  },
  {
   "cell_type": "code",
   "execution_count": null,
   "id": "0c6dbc9b",
   "metadata": {},
   "outputs": [],
   "source": [
    "#Outlier Detection"
   ]
  },
  {
   "cell_type": "code",
   "execution_count": 34,
   "id": "b61d0c34",
   "metadata": {},
   "outputs": [],
   "source": [
    "from collections import Counter\n",
    "import numpy as np\n",
    "\n",
    "def detect_outliers(df,features) :\n",
    "    outlier_indices= []\n",
    "   \n",
    "    \n",
    "    for c in features:\n",
    "        #1st quartile\n",
    "        Q1=np.percentile(df[c],25)\n",
    "        #3rd quartile\n",
    "        Q3=np.percentile(df[c],75)\n",
    "        #IQR\n",
    "        IQR=Q3-Q1\n",
    "        #Outlier step\n",
    "        outlier_step=IQR*1.5\n",
    "        #Detect outlier and their indices\n",
    "        oultier_list_col=df[(df[c]<Q1-outlier_step) | (df[c]>Q3+outlier_step)].index\n",
    "        #Store indices\n",
    "        outlier_indices.extend(oultier_list_col)\n",
    "        \n",
    "    outlier_indices = Counter(outlier_indices)    \n",
    "    multiple_outliers=list(i for i ,v in outlier_indices.items() if v>2)\n",
    "    \n",
    "    \n",
    "    return multiple_outliers\n",
    "        \n",
    "             \n",
    "        \n",
    "        \n",
    "        \n"
   ]
  },
  {
   "cell_type": "code",
   "execution_count": null,
   "id": "e0e8538e",
   "metadata": {},
   "outputs": [],
   "source": []
  },
  {
   "cell_type": "code",
   "execution_count": 35,
   "id": "828e0071",
   "metadata": {},
   "outputs": [
    {
     "data": {
      "text/plain": [
       "[]"
      ]
     },
     "execution_count": 35,
     "metadata": {},
     "output_type": "execute_result"
    }
   ],
   "source": [
    "detect_outliers(df,[\"PEG\",\"LPR\",\"STR\",\"SCG\",\"STG\"])"
   ]
  },
  {
   "cell_type": "code",
   "execution_count": null,
   "id": "53b5f867",
   "metadata": {},
   "outputs": [],
   "source": [
    "#there seems to be no outliers in the numerical features"
   ]
  },
  {
   "cell_type": "code",
   "execution_count": 36,
   "id": "ad1d0b98",
   "metadata": {},
   "outputs": [],
   "source": [
    "import seaborn as sns"
   ]
  },
  {
   "cell_type": "code",
   "execution_count": 37,
   "id": "870449ab",
   "metadata": {},
   "outputs": [
    {
     "data": {
      "image/png": "[encoded data removed]",
      "text/plain": [
       "<Figure size 936x792 with 2 Axes>"
      ]
     },
     "metadata": {
      "needs_background": "light"
     },
     "output_type": "display_data"
    }
   ],
   "source": [
    "fig=plt.figure(figsize=(13,11))\n",
    "r=sns.heatmap(df.corr(),annot=True,fmt= \".2f\")\n",
    "r.set_title(\"Correlation\")\n",
    "plt.show()"
   ]
  },
  {
   "cell_type": "code",
   "execution_count": 38,
   "id": "a93a9f5f",
   "metadata": {},
   "outputs": [
    {
     "data": {
      "text/html": [
       "        <script type=\"text/javascript\">\n",
       "        window.PlotlyConfig = {MathJaxConfig: 'local'};\n",
       "        if (window.MathJax) {MathJax.Hub.Config({SVG: {font: \"STIX-Web\"}});}\n",
       "        if (typeof require !== 'undefined') {\n",
       "        require.undef(\"plotly\");\n",
       "        requirejs.config({\n",
       "            paths: {\n",
       "                'plotly': ['https://cdn.plot.ly/plotly-latest.min']\n",
       "            }\n",
       "        });\n",
       "        require(['plotly'], function(Plotly) {\n",
       "            window._Plotly = Plotly;\n",
       "        });\n",
       "        }\n",
       "        </script>\n",
       "        "
      ]
     },
     "metadata": {},
     "output_type": "display_data"
    }
   ],
   "source": [
    "from plotly.offline import init_notebook_mode, iplot, plot\n",
    "import plotly as py\n",
    "init_notebook_mode(connected=True)\n",
    "import plotly.graph_objs as go\n",
    "import plotly.express as px"
   ]
  },
  {
   "cell_type": "code",
   "execution_count": 39,
   "id": "9191d953",
   "metadata": {},
   "outputs": [
    {
     "data": {
      "application/vnd.plotly.v1+json": {
       "config": {
        "plotlyServerURL": "https://plot.ly"
       },
       "data": [
        {
         "dimensions": [
          {
           "axis": {
            "matches": true
           },
           "label": "STG",
           "values": [
            0,
            0.15,
            0.05,
            0.04,
            0.09,
            0.115,
            0.25,
            0.32,
            0.29,
            0.255,
            0.245,
            0.248,
            0.251,
            0.265,
            0.45,
            0.33,
            0.33,
            0.36,
            0.33,
            0.68,
            0.55,
            0.59,
            0.6,
            0.55,
            0,
            0.16,
            0.18,
            0.1,
            0,
            0.2,
            0.1,
            0.16,
            0.16,
            0.08,
            0.1,
            0,
            0.08,
            0.08,
            0.25,
            0.28,
            0.25,
            0.26,
            0.25,
            0.25,
            0.33,
            0.41,
            0.36,
            0.52,
            0.54,
            0.52
           ]
          },
          {
           "axis": {
            "matches": true
           },
           "label": "SCG",
           "values": [
            0,
            0.02,
            0.07,
            0.28,
            0.33,
            0.35,
            0.1,
            0.2,
            0.15,
            0.18,
            0.1,
            0.3,
            0.265,
            0.6,
            0.04,
            0.04,
            0.27,
            0.29,
            0.34,
            0.19,
            0.1,
            0.18,
            0.19,
            0.17,
            0.1,
            0.25,
            0.26,
            0.27,
            0.25,
            0.25,
            0.33,
            0.51,
            0.52,
            0.56,
            0.6,
            0.62,
            0.56,
            0.58,
            0.05,
            0.08,
            0.28,
            0.26,
            0.26,
            0.54,
            0.04,
            0.04,
            0.52,
            0.08,
            0.25,
            0.28
           ]
          },
          {
           "axis": {
            "matches": true
           },
           "label": "STR",
           "values": [
            0,
            0.34,
            0.7,
            0.55,
            0.31,
            0.65,
            0.03,
            0.06,
            0.33,
            0.5,
            0.71,
            0.31,
            0.57,
            0.28,
            0.18,
            0.5,
            0.2,
            0.37,
            0.1,
            0.19,
            0.34,
            0.31,
            0.55,
            0.71,
            0.5,
            0.01,
            0.05,
            0.35,
            0.5,
            0.7,
            0.02,
            0.09,
            0.3,
            0.33,
            0.51,
            0.52,
            0.7,
            0.71,
            0.53,
            0.52,
            0.3,
            0.31,
            0.51,
            0.31,
            0.02,
            0.33,
            0.07,
            0.33,
            0.07,
            0.32
           ]
          },
          {
           "axis": {
            "matches": true
           },
           "label": "LPR",
           "values": [
            0,
            0.4,
            0.01,
            0.25,
            0.26,
            0.27,
            0.09,
            0.26,
            0.66,
            0.4,
            0.26,
            0.2,
            0.6,
            0.66,
            0.55,
            0.55,
            0.33,
            0.48,
            0.49,
            0.48,
            0.3,
            0.55,
            0.08,
            0.48,
            0.26,
            0.1,
            0.4,
            0.45,
            0.09,
            0.25,
            0,
            0.38,
            0.09,
            0.4,
            0.1,
            0.26,
            0.14,
            0.27,
            0.1,
            0.25,
            0.001,
            0.26,
            0.04,
            0.25,
            0.12,
            0.26,
            0.1,
            0.07,
            0.09,
            0.1
           ]
          },
          {
           "axis": {
            "matches": true
           },
           "label": "PEG",
           "values": [
            0,
            0.01,
            0.05,
            0.1,
            0,
            0.04,
            0.15,
            0.24,
            0.08,
            0.1,
            0.2,
            0.03,
            0.09,
            0.07,
            0.07,
            0.1,
            0.1,
            0.13,
            0.12,
            0.1,
            0.1,
            0.09,
            0.1,
            0.11,
            0.05,
            0.07,
            0.04,
            0.05,
            0.07,
            0.03,
            0.25,
            0.1,
            0.11,
            0.1,
            0.01,
            0.07,
            0.1,
            0.09,
            0.12,
            0.08,
            0.25,
            0.13,
            0.13,
            0.08,
            0.11,
            0.12,
            0.15,
            0.09,
            0.11,
            0.1
           ]
          },
          {
           "axis": {
            "matches": true
           },
           "label": "UNS",
           "values": [
            "very_low",
            "very_low",
            "very_low",
            "very_low",
            "very_low",
            "very_low",
            "very_low",
            "very_low",
            "very_low",
            "very_low",
            "very_low",
            "very_low",
            "very_low",
            "very_low",
            "very_low",
            "very_low",
            "very_low",
            "very_low",
            "very_low",
            "very_low",
            "very_low",
            "very_low",
            "very_low",
            "very_low",
            "very_low",
            "very_low",
            "very_low",
            "very_low",
            "very_low",
            "very_low",
            "very_low",
            "very_low",
            "very_low",
            "very_low",
            "very_low",
            "very_low",
            "very_low",
            "very_low",
            "very_low",
            "very_low",
            "very_low",
            "very_low",
            "very_low",
            "very_low",
            "very_low",
            "very_low",
            "very_low",
            "very_low",
            "very_low",
            "very_low"
           ]
          }
         ],
         "hovertemplate": "UNS=very_low<br>%{xaxis.title.text}=%{x}<br>%{yaxis.title.text}=%{y}<extra></extra>",
         "legendgroup": "very_low",
         "marker": {
          "color": "#636efa",
          "symbol": "circle"
         },
         "name": "very_low",
         "showlegend": true,
         "type": "splom"
        },
        {
         "dimensions": [
          {
           "axis": {
            "matches": true
           },
           "label": "STG",
           "values": [
            0.08,
            0,
            0.18,
            0.1,
            0.12,
            0.09,
            0.08,
            0.15,
            0.18,
            0.2,
            0.2,
            0.13,
            0.18,
            0.24,
            0.18,
            0.31,
            0.28,
            0.325,
            0.323,
            0.258,
            0.299,
            0.299,
            0.32,
            0.329,
            0.315,
            0.325,
            0.325,
            0.312,
            0.299,
            0.48,
            0.46,
            0.48,
            0.49,
            0.495,
            0.445,
            0.43,
            0.4,
            0.38,
            0.41,
            0.44,
            0.49,
            0.44,
            0.45,
            0.46,
            0.495,
            0.49,
            0.42,
            0.4,
            0.78,
            0.85,
            0.9,
            0.6,
            0.77,
            0.88,
            0.99,
            0.83,
            0.66,
            0.71,
            0.91,
            0.89,
            0.61,
            0.54,
            0.66,
            0.08,
            0.2,
            0.22,
            0.2,
            0.21,
            0.23,
            0.22,
            0.2,
            0.22,
            0.2,
            0.2,
            0.21,
            0.22,
            0.11,
            0.21,
            0.21,
            0.22,
            0.2,
            0.3,
            0.31,
            0.32,
            0.33,
            0.3,
            0.32,
            0.31,
            0.32,
            0.3,
            0.31,
            0.31,
            0.47,
            0.8,
            0.75,
            0.87,
            0.9,
            0.85,
            0.78,
            0.78,
            0.9,
            0.85
           ]
          },
          {
           "axis": {
            "matches": true
           },
           "label": "SCG",
           "values": [
            0.08,
            0,
            0.18,
            0.1,
            0.12,
            0.3,
            0.325,
            0.275,
            0.32,
            0.45,
            0.49,
            0.39,
            0.34,
            0.75,
            0.51,
            0.1,
            0.16,
            0.25,
            0.32,
            0.25,
            0.32,
            0.295,
            0.28,
            0.55,
            0.69,
            0.61,
            0.9,
            0.8,
            0.7,
            0.12,
            0.2,
            0.3,
            0.245,
            0.276,
            0.39,
            0.45,
            0.33,
            0.36,
            0.49,
            0.33,
            0.34,
            0.55,
            0.65,
            0.78,
            0.82,
            0.9,
            0.7,
            0.61,
            0.21,
            0.05,
            0.26,
            0.31,
            0.29,
            0.335,
            0.49,
            0.44,
            0.36,
            0.46,
            0.58,
            0.68,
            0.78,
            0.82,
            0.9,
            0.18,
            0.2,
            0.22,
            0.2,
            0.32,
            0.29,
            0.31,
            0.32,
            0.48,
            0.49,
            0.85,
            0.78,
            0.8,
            0.88,
            0.9,
            0.88,
            0.86,
            0.78,
            0.18,
            0.2,
            0.15,
            0.2,
            0.16,
            0.2,
            0.32,
            0.31,
            0.32,
            0.32,
            0.82,
            0.47,
            0.24,
            0.22,
            0.23,
            0.31,
            0.32,
            0.47,
            0.47,
            0.78,
            0.82
           ]
          },
          {
           "axis": {
            "matches": true
           },
           "label": "STR",
           "values": [
            0.1,
            0.5,
            0.55,
            0.7,
            0.75,
            0.68,
            0.62,
            0.8,
            0.04,
            0.28,
            0.6,
            0.85,
            0.71,
            0.32,
            0.58,
            0.41,
            0.69,
            0.38,
            0.89,
            0.295,
            0.31,
            0.8,
            0.72,
            0.02,
            0.28,
            0.46,
            0.52,
            0.67,
            0.95,
            0.28,
            0.76,
            0.15,
            0.38,
            0.58,
            0.02,
            0.27,
            0.12,
            0.46,
            0.34,
            0.59,
            0.88,
            0.11,
            0.19,
            0.38,
            0.67,
            0.52,
            0.72,
            0.71,
            0.68,
            0.91,
            0.19,
            0.31,
            0.74,
            0.19,
            0.07,
            0.49,
            0.56,
            0.95,
            0.26,
            0.49,
            0.69,
            0.71,
            0.76,
            0.63,
            0.68,
            0.9,
            0.88,
            0.25,
            0.45,
            0.42,
            0.65,
            0.47,
            0.68,
            0.24,
            0.42,
            0.44,
            0.67,
            0.9,
            0.87,
            0.83,
            0.91,
            0.23,
            0.46,
            0.66,
            0.64,
            0.89,
            0.84,
            0.29,
            0.26,
            0.43,
            0.69,
            0.47,
            0.25,
            0.23,
            0.24,
            0.25,
            0.24,
            0.22,
            0.24,
            0.29,
            0.62,
            0.66
           ]
          },
          {
           "axis": {
            "matches": true
           },
           "label": "LPR",
           "values": [
            0.24,
            0.2,
            0.3,
            0.15,
            0.35,
            0.18,
            0.94,
            0.21,
            0.19,
            0.31,
            0.2,
            0.38,
            0.71,
            0.18,
            0.33,
            0.42,
            0.33,
            0.31,
            0.32,
            0.33,
            0.33,
            0.37,
            0.89,
            0.4,
            0.8,
            0.32,
            0.49,
            0.92,
            0.22,
            0.7,
            0.95,
            0.65,
            0.14,
            0.77,
            0.24,
            0.27,
            0.3,
            0.49,
            0.21,
            0.53,
            0.75,
            0.26,
            0.99,
            0.24,
            0.01,
            0.9,
            0.3,
            0.88,
            0.65,
            0.8,
            0.58,
            0.87,
            0.82,
            0.55,
            0.7,
            0.91,
            0.4,
            0.78,
            0.89,
            0.65,
            0.92,
            0.29,
            0.87,
            0.6,
            0.67,
            0.3,
            0.77,
            0.5,
            0.18,
            0.88,
            0.31,
            0.78,
            0.76,
            0.79,
            0.32,
            0.78,
            0.66,
            0.22,
            0.56,
            0.89,
            0.82,
            0.9,
            0.78,
            0.24,
            0.59,
            0.32,
            0.81,
            0.31,
            0.83,
            0.87,
            0.3,
            0.4,
            0.96,
            0.29,
            0.96,
            0.85,
            0.3,
            0.87,
            0.3,
            0.98,
            0.32,
            0.83
           ]
          },
          {
           "axis": {
            "matches": true
           },
           "label": "PEG",
           "values": [
            0.9,
            0.85,
            0.81,
            0.9,
            0.8,
            0.85,
            0.56,
            0.81,
            0.82,
            0.78,
            0.78,
            0.77,
            0.9,
            0.86,
            0.82,
            0.75,
            0.78,
            0.79,
            0.8,
            0.77,
            0.87,
            0.84,
            0.58,
            0.79,
            0.7,
            0.81,
            0.76,
            0.5,
            0.66,
            0.71,
            0.65,
            0.77,
            0.86,
            0.83,
            0.88,
            0.89,
            0.9,
            0.78,
            0.92,
            0.85,
            0.71,
            0.83,
            0.55,
            0.89,
            0.93,
            0.47,
            0.8,
            0.67,
            0.75,
            0.68,
            0.79,
            0.58,
            0.68,
            0.78,
            0.69,
            0.66,
            0.83,
            0.86,
            0.88,
            0.9,
            0.58,
            0.77,
            0.74,
            0.85,
            0.85,
            0.9,
            0.8,
            0.8,
            0.88,
            0.8,
            0.89,
            0.81,
            0.78,
            0.85,
            0.84,
            0.88,
            0.89,
            0.92,
            0.95,
            0.65,
            0.85,
            0.84,
            0.83,
            0.82,
            0.94,
            0.95,
            0.8,
            0.96,
            0.77,
            0.83,
            0.98,
            0.99,
            0.61,
            0.98,
            0.62,
            0.8,
            0.97,
            0.79,
            0.93,
            0.59,
            0.89,
            0.83
           ]
          },
          {
           "axis": {
            "matches": true
           },
           "label": "UNS",
           "values": [
            "high",
            "high",
            "high",
            "high",
            "high",
            "high",
            "high",
            "high",
            "high",
            "high",
            "high",
            "high",
            "high",
            "high",
            "high",
            "high",
            "high",
            "high",
            "high",
            "high",
            "high",
            "high",
            "high",
            "high",
            "high",
            "high",
            "high",
            "high",
            "high",
            "high",
            "high",
            "high",
            "high",
            "high",
            "high",
            "high",
            "high",
            "high",
            "high",
            "high",
            "high",
            "high",
            "high",
            "high",
            "high",
            "high",
            "high",
            "high",
            "high",
            "high",
            "high",
            "high",
            "high",
            "high",
            "high",
            "high",
            "high",
            "high",
            "high",
            "high",
            "high",
            "high",
            "high",
            "high",
            "high",
            "high",
            "high",
            "high",
            "high",
            "high",
            "high",
            "high",
            "high",
            "high",
            "high",
            "high",
            "high",
            "high",
            "high",
            "high",
            "high",
            "high",
            "high",
            "high",
            "high",
            "high",
            "high",
            "high",
            "high",
            "high",
            "high",
            "high",
            "high",
            "high",
            "high",
            "high",
            "high",
            "high",
            "high",
            "high",
            "high",
            "high"
           ]
          }
         ],
         "hovertemplate": "UNS=high<br>%{xaxis.title.text}=%{x}<br>%{yaxis.title.text}=%{y}<extra></extra>",
         "legendgroup": "high",
         "marker": {
          "color": "#EF553B",
          "symbol": "circle"
         },
         "name": "high",
         "showlegend": true,
         "type": "splom"
        },
        {
         "dimensions": [
          {
           "axis": {
            "matches": true
           },
           "label": "STG",
           "values": [
            0.06,
            0.08,
            0.2,
            0.06,
            0.1,
            0.15,
            0.12,
            0.18,
            0.06,
            0.09,
            0.15,
            0.1,
            0.06,
            0.1,
            0.18,
            0.02,
            0.06,
            0.09,
            0.1,
            0.08,
            0.09,
            0.2,
            0.28,
            0.265,
            0.275,
            0.295,
            0.32,
            0.25,
            0.27,
            0.27,
            0.29,
            0.288,
            0.255,
            0.295,
            0.243,
            0.27,
            0.245,
            0.295,
            0.276,
            0.258,
            0.28,
            0.255,
            0.305,
            0.265,
            0.255,
            0.39,
            0.38,
            0.37,
            0.38,
            0.39,
            0.365,
            0.345,
            0.334,
            0.39,
            0.348,
            0.35,
            0.42,
            0.4,
            0.38,
            0.39,
            0.365,
            0.37,
            0.38,
            0.49,
            0.365,
            0.55,
            0.73,
            0.69,
            0.62,
            0.6,
            0.52,
            0.58,
            0.61,
            0.58,
            0.58,
            0.61,
            0.51,
            0.58,
            0.523,
            0.5,
            0.52,
            0.58,
            0.54,
            0.05,
            0.14,
            0.12,
            0.05,
            0.19,
            0.11,
            0.12,
            0.16,
            0.18,
            0.13,
            0.14,
            0.09,
            0.12,
            0.13,
            0.25,
            0.32,
            0.26,
            0.26,
            0.28,
            0.27,
            0.27,
            0.26,
            0.28,
            0.28,
            0.25,
            0.29,
            0.28,
            0.37,
            0.37,
            0.38,
            0.38,
            0.41,
            0.42,
            0.6,
            0.65,
            0.62,
            0.56,
            0.56,
            0.61,
            0.58,
            0.57,
            0.62,
            0.64,
            0.64,
            0.68,
            0.56
           ]
          },
          {
           "axis": {
            "matches": true
           },
           "label": "SCG",
           "values": [
            0.06,
            0.08,
            0.14,
            0.06,
            0.25,
            0.32,
            0.28,
            0.31,
            0.29,
            0.255,
            0.295,
            0.256,
            0.35,
            0.42,
            0.4,
            0.33,
            0.5,
            0.55,
            0.6,
            0.58,
            0.61,
            0.68,
            0.1,
            0.06,
            0.1,
            0.2,
            0.12,
            0.29,
            0.1,
            0.31,
            0.29,
            0.31,
            0.305,
            0.25,
            0.27,
            0.28,
            0.26,
            0.29,
            0.255,
            0.31,
            0.65,
            0.75,
            0.55,
            0.76,
            0.72,
            0.05,
            0.1,
            0.06,
            0.01,
            0.15,
            0.243,
            0.299,
            0.295,
            0.26,
            0.329,
            0.38,
            0.36,
            0.42,
            0.39,
            0.42,
            0.68,
            0.55,
            0.59,
            0.64,
            0.57,
            0.1,
            0.2,
            0.02,
            0.14,
            0.251,
            0.288,
            0.295,
            0.258,
            0.299,
            0.348,
            0.33,
            0.4,
            0.35,
            0.41,
            0.4,
            0.85,
            0.58,
            0.51,
            0.05,
            0.14,
            0.12,
            0.29,
            0.28,
            0.26,
            0.28,
            0.28,
            0.37,
            0.4,
            0.38,
            0.38,
            0.56,
            0.62,
            0,
            0.02,
            0.09,
            0.12,
            0.06,
            0.03,
            0.29,
            0.26,
            0.27,
            0.29,
            0.28,
            0.66,
            0.55,
            0.09,
            0.07,
            0.09,
            0.33,
            0.37,
            0.39,
            0.08,
            0.09,
            0.12,
            0.27,
            0.35,
            0.38,
            0.4,
            0.37,
            0.56,
            0.58,
            0.59,
            0.61,
            0.6
           ]
          },
          {
           "axis": {
            "matches": true
           },
           "label": "STR",
           "values": [
            0.05,
            0.08,
            0.35,
            0.51,
            0.1,
            0.05,
            0.2,
            0.32,
            0.35,
            0.6,
            0.75,
            0.7,
            0.12,
            0.22,
            0.32,
            0.36,
            0.09,
            0.12,
            0.33,
            0.6,
            0.53,
            0.73,
            0.12,
            0.57,
            0.72,
            0.86,
            0.79,
            0.15,
            0.1,
            0.32,
            0.4,
            0.79,
            0.86,
            0.73,
            0.08,
            0.18,
            0.38,
            0.31,
            0.81,
            0.88,
            0.4,
            0.35,
            0.5,
            0.8,
            0.72,
            0.02,
            0.4,
            0.32,
            0.53,
            0.81,
            0.19,
            0.1,
            0.33,
            0.39,
            0.83,
            0.32,
            0.63,
            0.58,
            0.79,
            0.83,
            0.1,
            0.41,
            0.31,
            0.34,
            0.59,
            0.27,
            0.07,
            0.62,
            0.52,
            0.39,
            0.32,
            0.62,
            0.56,
            0.73,
            0.06,
            0.36,
            0.4,
            0.51,
            0.55,
            0.73,
            0.06,
            0.31,
            0.55,
            0.55,
            0.7,
            0.75,
            0.58,
            0.57,
            0.56,
            0.7,
            0.72,
            0.11,
            0.17,
            0.59,
            0.54,
            0.13,
            0.77,
            0.1,
            0.34,
            0.33,
            0.34,
            0.7,
            0.76,
            0.34,
            0.35,
            0.56,
            0.57,
            0.77,
            0.35,
            0.38,
            0.1,
            0.1,
            0.37,
            0.1,
            0.79,
            0.78,
            0.13,
            0.16,
            0.36,
            0.11,
            0.1,
            0.09,
            0.32,
            0.75,
            0.11,
            0.14,
            0.12,
            0.34,
            0.77
           ]
          },
          {
           "axis": {
            "matches": true
           },
           "label": "LPR",
           "values": [
            0.25,
            0.98,
            0.72,
            0.41,
            0.08,
            0.27,
            0.78,
            0.42,
            0.76,
            0.45,
            0.65,
            0.76,
            0.43,
            0.72,
            0.08,
            0.76,
            0.28,
            0.78,
            0.42,
            0.64,
            0.75,
            0.48,
            0.28,
            0.75,
            0.1,
            0.44,
            0.76,
            0.48,
            0.7,
            0.41,
            0.78,
            0.23,
            0.62,
            0.77,
            0.42,
            0.48,
            0.49,
            0.76,
            0.27,
            0.4,
            0.65,
            0.72,
            0.11,
            0.28,
            0.63,
            0.06,
            0.48,
            0.78,
            0.27,
            0.22,
            0.24,
            0.64,
            0.32,
            0.77,
            0.61,
            0.6,
            0.04,
            0.75,
            0.33,
            0.65,
            0.63,
            0.29,
            0.62,
            0.78,
            0.55,
            0.25,
            0.72,
            0.3,
            0.81,
            0.29,
            0.5,
            0.28,
            0.62,
            0.63,
            0.29,
            0.28,
            0.59,
            0.27,
            0.6,
            0.62,
            0.27,
            0.29,
            0.64,
            0.6,
            0.5,
            0.68,
            0.14,
            0.58,
            0.68,
            0.16,
            0.27,
            0.28,
            0.25,
            0.11,
            0.69,
            0.48,
            0.28,
            0.12,
            0.13,
            0.28,
            0.68,
            0.27,
            0.59,
            0.28,
            0.62,
            0.14,
            0.6,
            0.11,
            0.28,
            0.9,
            0.13,
            0.41,
            0.28,
            0.07,
            0.12,
            0.32,
            0.14,
            0.49,
            0.36,
            0.59,
            0.62,
            0.38,
            0.22,
            0.27,
            0.24,
            0.32,
            0.58,
            0.31,
            0.13
           ]
          },
          {
           "axis": {
            "matches": true
           },
           "label": "PEG",
           "values": [
            0.33,
            0.24,
            0.25,
            0.3,
            0.33,
            0.29,
            0.2,
            0.28,
            0.25,
            0.25,
            0.24,
            0.16,
            0.29,
            0.26,
            0.33,
            0.1,
            0.25,
            0.05,
            0.26,
            0.1,
            0.01,
            0.28,
            0.32,
            0.1,
            0.3,
            0.28,
            0.24,
            0.26,
            0.25,
            0.28,
            0.18,
            0.24,
            0.15,
            0.19,
            0.29,
            0.26,
            0.27,
            0.1,
            0.33,
            0.3,
            0.13,
            0.25,
            0.333,
            0.28,
            0.14,
            0.34,
            0.26,
            0.1,
            0.3,
            0.29,
            0.35,
            0.13,
            0.3,
            0.14,
            0.18,
            0.16,
            0.25,
            0.16,
            0.3,
            0.19,
            0.18,
            0.3,
            0.2,
            0.21,
            0.25,
            0.29,
            0.26,
            0.29,
            0.15,
            0.3,
            0.3,
            0.3,
            0.24,
            0.21,
            0.31,
            0.28,
            0.23,
            0.3,
            0.22,
            0.2,
            0.25,
            0.29,
            0.19,
            0.14,
            0.3,
            0.15,
            0.32,
            0.17,
            0.27,
            0.32,
            0.32,
            0.3,
            0.38,
            0.32,
            0.21,
            0.32,
            0.31,
            0.37,
            0.31,
            0.32,
            0.29,
            0.32,
            0.23,
            0.32,
            0.24,
            0.31,
            0.27,
            0.31,
            0.31,
            0.22,
            0.32,
            0.3,
            0.32,
            0.4,
            0.32,
            0.2,
            0.32,
            0.31,
            0.32,
            0.22,
            0.23,
            0.3,
            0.24,
            0.32,
            0.22,
            0.21,
            0.24,
            0.23,
            0.32
           ]
          },
          {
           "axis": {
            "matches": true
           },
           "label": "UNS",
           "values": [
            "low",
            "low",
            "low",
            "low",
            "low",
            "low",
            "low",
            "low",
            "low",
            "low",
            "low",
            "low",
            "low",
            "low",
            "low",
            "low",
            "low",
            "low",
            "low",
            "low",
            "low",
            "low",
            "low",
            "low",
            "low",
            "low",
            "low",
            "low",
            "low",
            "low",
            "low",
            "low",
            "low",
            "low",
            "low",
            "low",
            "low",
            "low",
            "low",
            "low",
            "low",
            "low",
            "low",
            "low",
            "low",
            "low",
            "low",
            "low",
            "low",
            "low",
            "low",
            "low",
            "low",
            "low",
            "low",
            "low",
            "low",
            "low",
            "low",
            "low",
            "low",
            "low",
            "low",
            "low",
            "low",
            "low",
            "low",
            "low",
            "low",
            "low",
            "low",
            "low",
            "low",
            "low",
            "low",
            "low",
            "low",
            "low",
            "low",
            "low",
            "low",
            "low",
            "low",
            "low",
            "low",
            "low",
            "low",
            "low",
            "low",
            "low",
            "low",
            "low",
            "low",
            "low",
            "low",
            "low",
            "low",
            "low",
            "low",
            "low",
            "low",
            "low",
            "low",
            "low",
            "low",
            "low",
            "low",
            "low",
            "low",
            "low",
            "low",
            "low",
            "low",
            "low",
            "low",
            "low",
            "low",
            "low",
            "low",
            "low",
            "low",
            "low",
            "low",
            "low",
            "low",
            "low",
            "low",
            "low",
            "low"
           ]
          }
         ],
         "hovertemplate": "UNS=low<br>%{xaxis.title.text}=%{x}<br>%{yaxis.title.text}=%{y}<extra></extra>",
         "legendgroup": "low",
         "marker": {
          "color": "#00cc96",
          "symbol": "circle"
         },
         "name": "low",
         "showlegend": true,
         "type": "splom"
        },
        {
         "dimensions": [
          {
           "axis": {
            "matches": true
           },
           "label": "STG",
           "values": [
            0.1,
            0.09,
            0.1,
            0.1,
            0.2,
            0.2,
            0.18,
            0.1,
            0.12,
            0.19,
            0.14,
            0.18,
            0.17,
            0.1,
            0.09,
            0.23,
            0.18,
            0.2,
            0.09,
            0.06,
            0.15,
            0.24,
            0.29,
            0.3,
            0.27,
            0.3,
            0.295,
            0.315,
            0.29,
            0.258,
            0.32,
            0.29,
            0.3,
            0.29,
            0.26,
            0.305,
            0.32,
            0.295,
            0.285,
            0.28,
            0.3,
            0.295,
            0.4,
            0.4,
            0.41,
            0.41,
            0.42,
            0.44,
            0.42,
            0.43,
            0.44,
            0.45,
            0.465,
            0.475,
            0.385,
            0.34,
            0.43,
            0.46,
            0.46,
            0.44,
            0.445,
            0.37,
            0.6,
            0.78,
            0.64,
            0.7,
            0.75,
            0.78,
            0.8,
            0.76,
            0.72,
            0.51,
            0.77,
            0.79,
            0.68,
            0.71,
            0.73,
            0.66,
            0.62,
            0.52,
            0.64,
            0.62,
            0.62,
            0.72,
            0.68,
            0.56,
            0.78,
            0.5,
            0.16,
            0.11,
            0.13,
            0.1,
            0.18,
            0.11,
            0.18,
            0.11,
            0.15,
            0.12,
            0.14,
            0.14,
            0.18,
            0.15,
            0.29,
            0.28,
            0.28,
            0.31,
            0.28,
            0.28,
            0.27,
            0.29,
            0.4,
            0.41,
            0.42,
            0.42,
            0.4,
            0.4,
            0.43,
            0.68,
            0.68,
            0.68,
            0.66,
            0.68
           ]
          },
          {
           "axis": {
            "matches": true
           },
           "label": "SCG",
           "values": [
            0.1,
            0.15,
            0.1,
            0.1,
            0.2,
            0.29,
            0.3,
            0.27,
            0.245,
            0.38,
            0.49,
            0.33,
            0.36,
            0.39,
            0.51,
            0.7,
            0.72,
            0.52,
            0.6,
            0.77,
            0.79,
            0.58,
            0.06,
            0.08,
            0.12,
            0.2,
            0.25,
            0.32,
            0.3,
            0.28,
            0.255,
            0.25,
            0.27,
            0.3,
            0.28,
            0.255,
            0.27,
            0.59,
            0.64,
            0.78,
            0.85,
            0.6,
            0.18,
            0.12,
            0.18,
            0.09,
            0.15,
            0.08,
            0.21,
            0.305,
            0.32,
            0.299,
            0.258,
            0.32,
            0.26,
            0.4,
            0.38,
            0.44,
            0.64,
            0.69,
            0.7,
            0.6,
            0.14,
            0.15,
            0.09,
            0.18,
            0.015,
            0.27,
            0.29,
            0.258,
            0.32,
            0.255,
            0.267,
            0.28,
            0.27,
            0.475,
            0.43,
            0.38,
            0.37,
            0.44,
            0.55,
            0.62,
            0.67,
            0.6,
            0.63,
            0.6,
            0.61,
            0.75,
            0.16,
            0.29,
            0.28,
            0.3,
            0.29,
            0.3,
            0.31,
            0.42,
            0.42,
            0.62,
            0.65,
            0.61,
            0.7,
            0.67,
            0.1,
            0.12,
            0.16,
            0.15,
            0.29,
            0.28,
            0.28,
            0.74,
            0.15,
            0.11,
            0.13,
            0.29,
            0.3,
            0.59,
            0.65,
            0.16,
            0.15,
            0.43,
            0.68,
            0.64
           ]
          },
          {
           "axis": {
            "matches": true
           },
           "label": "STR",
           "values": [
            0.15,
            0.4,
            0.43,
            0.52,
            0.7,
            0.25,
            0.37,
            0.31,
            0.75,
            0.38,
            0.55,
            0.61,
            0.8,
            0.75,
            0.02,
            0.19,
            0.37,
            0.36,
            0.66,
            0.72,
            0.78,
            0.76,
            0.19,
            0.4,
            0.37,
            0.52,
            0.26,
            0.29,
            0.52,
            0.64,
            0.55,
            0.29,
            0.31,
            0.56,
            0.6,
            0.63,
            0.52,
            0.29,
            0.18,
            0.44,
            0.54,
            0.72,
            0.26,
            0.41,
            0.33,
            0.58,
            0.66,
            0.8,
            0.87,
            0.51,
            0.55,
            0.63,
            0.73,
            0.79,
            0.76,
            0.38,
            0.62,
            0.89,
            0.22,
            0.61,
            0.82,
            0.77,
            0.22,
            0.38,
            0.33,
            0.88,
            0.78,
            0.13,
            0.06,
            0.07,
            0.48,
            0.55,
            0.59,
            0.88,
            0.78,
            0.13,
            0.32,
            0.55,
            0.81,
            0.82,
            0.15,
            0.24,
            0.39,
            0.45,
            0.65,
            0.6,
            0.71,
            0.81,
            0.8,
            0.2,
            0.18,
            0.58,
            0.78,
            0.79,
            0.81,
            0.38,
            0.6,
            0.21,
            0.19,
            0.39,
            0.41,
            0.56,
            0.17,
            0.38,
            0.41,
            0.58,
            0.19,
            0.38,
            0.59,
            0.39,
            0.16,
            0.21,
            0.15,
            0.14,
            0.18,
            0.77,
            0.76,
            0.2,
            0.58,
            0.6,
            0.81,
            0.79
           ]
          },
          {
           "axis": {
            "matches": true
           },
           "label": "LPR",
           "values": [
            0.65,
            0.1,
            0.29,
            0.78,
            0.3,
            0.49,
            0.12,
            0.29,
            0.31,
            0.49,
            0.29,
            0.64,
            0.14,
            0.31,
            0.18,
            0.51,
            0.29,
            0.84,
            0.19,
            0.19,
            0.3,
            0.8,
            0.55,
            0.02,
            0.29,
            0.3,
            0.12,
            0.29,
            0.09,
            0.29,
            0.78,
            0.29,
            0.31,
            0.25,
            0.29,
            0.4,
            0.81,
            0.31,
            0.61,
            0.17,
            0.25,
            0.88,
            0.26,
            0.1,
            0.31,
            0.18,
            0.78,
            0.22,
            0.56,
            0.09,
            0.33,
            0.36,
            0.18,
            0.31,
            0.84,
            0.2,
            0.33,
            0.12,
            0.22,
            0.29,
            0.16,
            0.4,
            0.11,
            0.18,
            0.65,
            0.09,
            0.31,
            0.14,
            0.31,
            0.83,
            0.2,
            0.17,
            0.78,
            0.2,
            0.31,
            0.23,
            0.12,
            0.15,
            0.13,
            0.3,
            0.18,
            0.65,
            0.1,
            0.79,
            0.09,
            0.31,
            0.19,
            0.61,
            0.5,
            0.05,
            0.75,
            0.28,
            0.15,
            0.8,
            0.7,
            0.82,
            0.15,
            0.3,
            0.26,
            0.56,
            0.67,
            0.07,
            0.74,
            0.17,
            0.51,
            0.76,
            0.37,
            0.29,
            0.69,
            0.41,
            0.3,
            0.44,
            0.94,
            0.03,
            0.29,
            0.99,
            0.94,
            0.59,
            0.35,
            0.47,
            0.57,
            0.97
           ]
          },
          {
           "axis": {
            "matches": true
           },
           "label": "PEG",
           "values": [
            0.3,
            0.66,
            0.56,
            0.34,
            0.6,
            0.56,
            0.66,
            0.65,
            0.59,
            0.45,
            0.6,
            0.25,
            0.66,
            0.62,
            0.67,
            0.45,
            0.55,
            0.25,
            0.59,
            0.56,
            0.51,
            0.28,
            0.51,
            0.67,
            0.58,
            0.53,
            0.67,
            0.62,
            0.67,
            0.56,
            0.34,
            0.57,
            0.54,
            0.67,
            0.59,
            0.54,
            0.3,
            0.55,
            0.45,
            0.66,
            0.83,
            0.28,
            0.67,
            0.65,
            0.5,
            0.58,
            0.4,
            0.56,
            0.48,
            0.64,
            0.52,
            0.51,
            0.59,
            0.54,
            0.3,
            0.61,
            0.49,
            0.66,
            0.6,
            0.57,
            0.64,
            0.5,
            0.66,
            0.63,
            0.5,
            0.66,
            0.53,
            0.62,
            0.51,
            0.34,
            0.6,
            0.64,
            0.28,
            0.66,
            0.57,
            0.59,
            0.65,
            0.62,
            0.64,
            0.52,
            0.63,
            0.25,
            0.66,
            0.45,
            0.66,
            0.5,
            0.6,
            0.26,
            0.5,
            0.66,
            0.32,
            0.55,
            0.61,
            0.32,
            0.4,
            0.31,
            0.62,
            0.59,
            0.66,
            0.56,
            0.33,
            0.66,
            0.52,
            0.6,
            0.56,
            0.52,
            0.58,
            0.62,
            0.26,
            0.54,
            0.58,
            0.57,
            0.3,
            0.68,
            0.59,
            0.24,
            0.29,
            0.6,
            0.6,
            0.55,
            0.57,
            0.24
           ]
          },
          {
           "axis": {
            "matches": true
           },
           "label": "UNS",
           "values": [
            "middle",
            "middle",
            "middle",
            "middle",
            "middle",
            "middle",
            "middle",
            "middle",
            "middle",
            "middle",
            "middle",
            "middle",
            "middle",
            "middle",
            "middle",
            "middle",
            "middle",
            "middle",
            "middle",
            "middle",
            "middle",
            "middle",
            "middle",
            "middle",
            "middle",
            "middle",
            "middle",
            "middle",
            "middle",
            "middle",
            "middle",
            "middle",
            "middle",
            "middle",
            "middle",
            "middle",
            "middle",
            "middle",
            "middle",
            "middle",
            "middle",
            "middle",
            "middle",
            "middle",
            "middle",
            "middle",
            "middle",
            "middle",
            "middle",
            "middle",
            "middle",
            "middle",
            "middle",
            "middle",
            "middle",
            "middle",
            "middle",
            "middle",
            "middle",
            "middle",
            "middle",
            "middle",
            "middle",
            "middle",
            "middle",
            "middle",
            "middle",
            "middle",
            "middle",
            "middle",
            "middle",
            "middle",
            "middle",
            "middle",
            "middle",
            "middle",
            "middle",
            "middle",
            "middle",
            "middle",
            "middle",
            "middle",
            "middle",
            "middle",
            "middle",
            "middle",
            "middle",
            "middle",
            "middle",
            "middle",
            "middle",
            "middle",
            "middle",
            "middle",
            "middle",
            "middle",
            "middle",
            "middle",
            "middle",
            "middle",
            "middle",
            "middle",
            "middle",
            "middle",
            "middle",
            "middle",
            "middle",
            "middle",
            "middle",
            "middle",
            "middle",
            "middle",
            "middle",
            "middle",
            "middle",
            "middle",
            "middle",
            "middle",
            "middle",
            "middle",
            "middle",
            "middle"
           ]
          }
         ],
         "hovertemplate": "UNS=middle<br>%{xaxis.title.text}=%{x}<br>%{yaxis.title.text}=%{y}<extra></extra>",
         "legendgroup": "middle",
         "marker": {
          "color": "#ab63fa",
          "symbol": "circle"
         },
         "name": "middle",
         "showlegend": true,
         "type": "splom"
        }
       ],
       "layout": {
        "dragmode": "select",
        "height": 1000,
        "legend": {
         "title": {
          "text": "UNS"
         },
         "tracegroupgap": 0
        },
        "margin": {
         "t": 60
        },
        "template": {
         "data": {
          "bar": [
           {
            "error_x": {
             "color": "#2a3f5f"
            },
            "error_y": {
             "color": "#2a3f5f"
            },
            "marker": {
             "line": {
              "color": "#E5ECF6",
              "width": 0.5
             }
            },
            "type": "bar"
           }
          ],
          "barpolar": [
           {
            "marker": {
             "line": {
              "color": "#E5ECF6",
              "width": 0.5
             }
            },
            "type": "barpolar"
           }
          ],
          "carpet": [
           {
            "aaxis": {
             "endlinecolor": "#2a3f5f",
             "gridcolor": "white",
             "linecolor": "white",
             "minorgridcolor": "white",
             "startlinecolor": "#2a3f5f"
            },
            "baxis": {
             "endlinecolor": "#2a3f5f",
             "gridcolor": "white",
             "linecolor": "white",
             "minorgridcolor": "white",
             "startlinecolor": "#2a3f5f"
            },
            "type": "carpet"
           }
          ],
          "choropleth": [
           {
            "colorbar": {
             "outlinewidth": 0,
             "ticks": ""
            },
            "type": "choropleth"
           }
          ],
          "contour": [
           {
            "colorbar": {
             "outlinewidth": 0,
             "ticks": ""
            },
            "colorscale": [
             [
              0,
              "#0d0887"
             ],
             [
              0.1111111111111111,
              "#46039f"
             ],
             [
              0.2222222222222222,
              "#7201a8"
             ],
             [
              0.3333333333333333,
              "#9c179e"
             ],
             [
              0.4444444444444444,
              "#bd3786"
             ],
             [
              0.5555555555555556,
              "#d8576b"
             ],
             [
              0.6666666666666666,
              "#ed7953"
             ],
             [
              0.7777777777777778,
              "#fb9f3a"
             ],
             [
              0.8888888888888888,
              "#fdca26"
             ],
             [
              1,
              "#f0f921"
             ]
            ],
            "type": "contour"
           }
          ],
          "contourcarpet": [
           {
            "colorbar": {
             "outlinewidth": 0,
             "ticks": ""
            },
            "type": "contourcarpet"
           }
          ],
          "heatmap": [
           {
            "colorbar": {
             "outlinewidth": 0,
             "ticks": ""
            },
            "colorscale": [
             [
              0,
              "#0d0887"
             ],
             [
              0.1111111111111111,
              "#46039f"
             ],
             [
              0.2222222222222222,
              "#7201a8"
             ],
             [
              0.3333333333333333,
              "#9c179e"
             ],
             [
              0.4444444444444444,
              "#bd3786"
             ],
             [
              0.5555555555555556,
              "#d8576b"
             ],
             [
              0.6666666666666666,
              "#ed7953"
             ],
             [
              0.7777777777777778,
              "#fb9f3a"
             ],
             [
              0.8888888888888888,
              "#fdca26"
             ],
             [
              1,
              "#f0f921"
             ]
            ],
            "type": "heatmap"
           }
          ],
          "heatmapgl": [
           {
            "colorbar": {
             "outlinewidth": 0,
             "ticks": ""
            },
            "colorscale": [
             [
              0,
              "#0d0887"
             ],
             [
              0.1111111111111111,
              "#46039f"
             ],
             [
              0.2222222222222222,
              "#7201a8"
             ],
             [
              0.3333333333333333,
              "#9c179e"
             ],
             [
              0.4444444444444444,
              "#bd3786"
             ],
             [
              0.5555555555555556,
              "#d8576b"
             ],
             [
              0.6666666666666666,
              "#ed7953"
             ],
             [
              0.7777777777777778,
              "#fb9f3a"
             ],
             [
              0.8888888888888888,
              "#fdca26"
             ],
             [
              1,
              "#f0f921"
             ]
            ],
            "type": "heatmapgl"
           }
          ],
          "histogram": [
           {
            "marker": {
             "colorbar": {
              "outlinewidth": 0,
              "ticks": ""
             }
            },
            "type": "histogram"
           }
          ],
          "histogram2d": [
           {
            "colorbar": {
             "outlinewidth": 0,
             "ticks": ""
            },
            "colorscale": [
             [
              0,
              "#0d0887"
             ],
             [
              0.1111111111111111,
              "#46039f"
             ],
             [
              0.2222222222222222,
              "#7201a8"
             ],
             [
              0.3333333333333333,
              "#9c179e"
             ],
             [
              0.4444444444444444,
              "#bd3786"
             ],
             [
              0.5555555555555556,
              "#d8576b"
             ],
             [
              0.6666666666666666,
              "#ed7953"
             ],
             [
              0.7777777777777778,
              "#fb9f3a"
             ],
             [
              0.8888888888888888,
              "#fdca26"
             ],
             [
              1,
              "#f0f921"
             ]
            ],
            "type": "histogram2d"
           }
          ],
          "histogram2dcontour": [
           {
            "colorbar": {
             "outlinewidth": 0,
             "ticks": ""
            },
            "colorscale": [
             [
              0,
              "#0d0887"
             ],
             [
              0.1111111111111111,
              "#46039f"
             ],
             [
              0.2222222222222222,
              "#7201a8"
             ],
             [
              0.3333333333333333,
              "#9c179e"
             ],
             [
              0.4444444444444444,
              "#bd3786"
             ],
             [
              0.5555555555555556,
              "#d8576b"
             ],
             [
              0.6666666666666666,
              "#ed7953"
             ],
             [
              0.7777777777777778,
              "#fb9f3a"
             ],
             [
              0.8888888888888888,
              "#fdca26"
             ],
             [
              1,
              "#f0f921"
             ]
            ],
            "type": "histogram2dcontour"
           }
          ],
          "mesh3d": [
           {
            "colorbar": {
             "outlinewidth": 0,
             "ticks": ""
            },
            "type": "mesh3d"
           }
          ],
          "parcoords": [
           {
            "line": {
             "colorbar": {
              "outlinewidth": 0,
              "ticks": ""
             }
            },
            "type": "parcoords"
           }
          ],
          "pie": [
           {
            "automargin": true,
            "type": "pie"
           }
          ],
          "scatter": [
           {
            "marker": {
             "colorbar": {
              "outlinewidth": 0,
              "ticks": ""
             }
            },
            "type": "scatter"
           }
          ],
          "scatter3d": [
           {
            "line": {
             "colorbar": {
              "outlinewidth": 0,
              "ticks": ""
             }
            },
            "marker": {
             "colorbar": {
              "outlinewidth": 0,
              "ticks": ""
             }
            },
            "type": "scatter3d"
           }
          ],
          "scattercarpet": [
           {
            "marker": {
             "colorbar": {
              "outlinewidth": 0,
              "ticks": ""
             }
            },
            "type": "scattercarpet"
           }
          ],
          "scattergeo": [
           {
            "marker": {
             "colorbar": {
              "outlinewidth": 0,
              "ticks": ""
             }
            },
            "type": "scattergeo"
           }
          ],
          "scattergl": [
           {
            "marker": {
             "colorbar": {
              "outlinewidth": 0,
              "ticks": ""
             }
            },
            "type": "scattergl"
           }
          ],
          "scattermapbox": [
           {
            "marker": {
             "colorbar": {
              "outlinewidth": 0,
              "ticks": ""
             }
            },
            "type": "scattermapbox"
           }
          ],
          "scatterpolar": [
           {
            "marker": {
             "colorbar": {
              "outlinewidth": 0,
              "ticks": ""
             }
            },
            "type": "scatterpolar"
           }
          ],
          "scatterpolargl": [
           {
            "marker": {
             "colorbar": {
              "outlinewidth": 0,
              "ticks": ""
             }
            },
            "type": "scatterpolargl"
           }
          ],
          "scatterternary": [
           {
            "marker": {
             "colorbar": {
              "outlinewidth": 0,
              "ticks": ""
             }
            },
            "type": "scatterternary"
           }
          ],
          "surface": [
           {
            "colorbar": {
             "outlinewidth": 0,
             "ticks": ""
            },
            "colorscale": [
             [
              0,
              "#0d0887"
             ],
             [
              0.1111111111111111,
              "#46039f"
             ],
             [
              0.2222222222222222,
              "#7201a8"
             ],
             [
              0.3333333333333333,
              "#9c179e"
             ],
             [
              0.4444444444444444,
              "#bd3786"
             ],
             [
              0.5555555555555556,
              "#d8576b"
             ],
             [
              0.6666666666666666,
              "#ed7953"
             ],
             [
              0.7777777777777778,
              "#fb9f3a"
             ],
             [
              0.8888888888888888,
              "#fdca26"
             ],
             [
              1,
              "#f0f921"
             ]
            ],
            "type": "surface"
           }
          ],
          "table": [
           {
            "cells": {
             "fill": {
              "color": "#EBF0F8"
             },
             "line": {
              "color": "white"
             }
            },
            "header": {
             "fill": {
              "color": "#C8D4E3"
             },
             "line": {
              "color": "white"
             }
            },
            "type": "table"
           }
          ]
         },
         "layout": {
          "annotationdefaults": {
           "arrowcolor": "#2a3f5f",
           "arrowhead": 0,
           "arrowwidth": 1
          },
          "autotypenumbers": "strict",
          "coloraxis": {
           "colorbar": {
            "outlinewidth": 0,
            "ticks": ""
           }
          },
          "colorscale": {
           "diverging": [
            [
             0,
             "#8e0152"
            ],
            [
             0.1,
             "#c51b7d"
            ],
            [
             0.2,
             "#de77ae"
            ],
            [
             0.3,
             "#f1b6da"
            ],
            [
             0.4,
             "#fde0ef"
            ],
            [
             0.5,
             "#f7f7f7"
            ],
            [
             0.6,
             "#e6f5d0"
            ],
            [
             0.7,
             "#b8e186"
            ],
            [
             0.8,
             "#7fbc41"
            ],
            [
             0.9,
             "#4d9221"
            ],
            [
             1,
             "#276419"
            ]
           ],
           "sequential": [
            [
             0,
             "#0d0887"
            ],
            [
             0.1111111111111111,
             "#46039f"
            ],
            [
             0.2222222222222222,
             "#7201a8"
            ],
            [
             0.3333333333333333,
             "#9c179e"
            ],
            [
             0.4444444444444444,
             "#bd3786"
            ],
            [
             0.5555555555555556,
             "#d8576b"
            ],
            [
             0.6666666666666666,
             "#ed7953"
            ],
            [
             0.7777777777777778,
             "#fb9f3a"
            ],
            [
             0.8888888888888888,
             "#fdca26"
            ],
            [
             1,
             "#f0f921"
            ]
           ],
           "sequentialminus": [
            [
             0,
             "#0d0887"
            ],
            [
             0.1111111111111111,
             "#46039f"
            ],
            [
             0.2222222222222222,
             "#7201a8"
            ],
            [
             0.3333333333333333,
             "#9c179e"
            ],
            [
             0.4444444444444444,
             "#bd3786"
            ],
            [
             0.5555555555555556,
             "#d8576b"
            ],
            [
             0.6666666666666666,
             "#ed7953"
            ],
            [
             0.7777777777777778,
             "#fb9f3a"
            ],
            [
             0.8888888888888888,
             "#fdca26"
            ],
            [
             1,
             "#f0f921"
            ]
           ]
          },
          "colorway": [
           "#636efa",
           "#EF553B",
           "#00cc96",
           "#ab63fa",
           "#FFA15A",
           "#19d3f3",
           "#FF6692",
           "#B6E880",
           "#FF97FF",
           "#FECB52"
          ],
          "font": {
           "color": "#2a3f5f"
          },
          "geo": {
           "bgcolor": "white",
           "lakecolor": "white",
           "landcolor": "#E5ECF6",
           "showlakes": true,
           "showland": true,
           "subunitcolor": "white"
          },
          "hoverlabel": {
           "align": "left"
          },
          "hovermode": "closest",
          "mapbox": {
           "style": "light"
          },
          "paper_bgcolor": "white",
          "plot_bgcolor": "#E5ECF6",
          "polar": {
           "angularaxis": {
            "gridcolor": "white",
            "linecolor": "white",
            "ticks": ""
           },
           "bgcolor": "#E5ECF6",
           "radialaxis": {
            "gridcolor": "white",
            "linecolor": "white",
            "ticks": ""
           }
          },
          "scene": {
           "xaxis": {
            "backgroundcolor": "#E5ECF6",
            "gridcolor": "white",
            "gridwidth": 2,
            "linecolor": "white",
            "showbackground": true,
            "ticks": "",
            "zerolinecolor": "white"
           },
           "yaxis": {
            "backgroundcolor": "#E5ECF6",
            "gridcolor": "white",
            "gridwidth": 2,
            "linecolor": "white",
            "showbackground": true,
            "ticks": "",
            "zerolinecolor": "white"
           },
           "zaxis": {
            "backgroundcolor": "#E5ECF6",
            "gridcolor": "white",
            "gridwidth": 2,
            "linecolor": "white",
            "showbackground": true,
            "ticks": "",
            "zerolinecolor": "white"
           }
          },
          "shapedefaults": {
           "line": {
            "color": "#2a3f5f"
           }
          },
          "ternary": {
           "aaxis": {
            "gridcolor": "white",
            "linecolor": "white",
            "ticks": ""
           },
           "baxis": {
            "gridcolor": "white",
            "linecolor": "white",
            "ticks": ""
           },
           "bgcolor": "#E5ECF6",
           "caxis": {
            "gridcolor": "white",
            "linecolor": "white",
            "ticks": ""
           }
          },
          "title": {
           "x": 0.05
          },
          "xaxis": {
           "automargin": true,
           "gridcolor": "white",
           "linecolor": "white",
           "ticks": "",
           "title": {
            "standoff": 15
           },
           "zerolinecolor": "white",
           "zerolinewidth": 2
          },
          "yaxis": {
           "automargin": true,
           "gridcolor": "white",
           "linecolor": "white",
           "ticks": "",
           "title": {
            "standoff": 15
           },
           "zerolinecolor": "white",
           "zerolinewidth": 2
          }
         }
        },
        "width": 1000
       }
      },
      "text/html": [
       "<div>                            <div id=\"89cdc891-be97-41a7-a3a2-c55de24bfd0e\" class=\"plotly-graph-div\" style=\"height:1000px; width:1000px;\"></div>            <script type=\"text/javascript\">                require([\"plotly\"], function(Plotly) {                    window.PLOTLYENV=window.PLOTLYENV || {};                                    if (document.getElementById(\"89cdc891-be97-41a7-a3a2-c55de24bfd0e\")) {                    Plotly.newPlot(                        \"89cdc891-be97-41a7-a3a2-c55de24bfd0e\",                        [{\"dimensions\": [{\"axis\": {\"matches\": true}, \"label\": \"STG\", \"values\": [0.0, 0.15, 0.05, 0.04, 0.09, 0.115, 0.25, 0.32, 0.29, 0.255, 0.245, 0.248, 0.251, 0.265, 0.45, 0.33, 0.33, 0.36, 0.33, 0.68, 0.55, 0.59, 0.6, 0.55, 0.0, 0.16, 0.18, 0.1, 0.0, 0.2, 0.1, 0.16, 0.16, 0.08, 0.1, 0.0, 0.08, 0.08, 0.25, 0.28, 0.25, 0.26, 0.25, 0.25, 0.33, 0.41, 0.36, 0.52, 0.54, 0.52]}, {\"axis\": {\"matches\": true}, \"label\": \"SCG\", \"values\": [0.0, 0.02, 0.07, 0.28, 0.33, 0.35, 0.1, 0.2, 0.15, 0.18, 0.1, 0.3, 0.265, 0.6, 0.04, 0.04, 0.27, 0.29, 0.34, 0.19, 0.1, 0.18, 0.19, 0.17, 0.1, 0.25, 0.26, 0.27, 0.25, 0.25, 0.33, 0.51, 0.52, 0.56, 0.6, 0.62, 0.56, 0.58, 0.05, 0.08, 0.28, 0.26, 0.26, 0.54, 0.04, 0.04, 0.52, 0.08, 0.25, 0.28]}, {\"axis\": {\"matches\": true}, \"label\": \"STR\", \"values\": [0.0, 0.34, 0.7, 0.55, 0.31, 0.65, 0.03, 0.06, 0.33, 0.5, 0.71, 0.31, 0.57, 0.28, 0.18, 0.5, 0.2, 0.37, 0.1, 0.19, 0.34, 0.31, 0.55, 0.71, 0.5, 0.01, 0.05, 0.35, 0.5, 0.7, 0.02, 0.09, 0.3, 0.33, 0.51, 0.52, 0.7, 0.71, 0.53, 0.52, 0.3, 0.31, 0.51, 0.31, 0.02, 0.33, 0.07, 0.33, 0.07, 0.32]}, {\"axis\": {\"matches\": true}, \"label\": \"LPR\", \"values\": [0.0, 0.4, 0.01, 0.25, 0.26, 0.27, 0.09, 0.26, 0.66, 0.4, 0.26, 0.2, 0.6, 0.66, 0.55, 0.55, 0.33, 0.48, 0.49, 0.48, 0.3, 0.55, 0.08, 0.48, 0.26, 0.1, 0.4, 0.45, 0.09, 0.25, 0.0, 0.38, 0.09, 0.4, 0.1, 0.26, 0.14, 0.27, 0.1, 0.25, 0.001, 0.26, 0.04, 0.25, 0.12, 0.26, 0.1, 0.07, 0.09, 0.1]}, {\"axis\": {\"matches\": true}, \"label\": \"PEG\", \"values\": [0.0, 0.01, 0.05, 0.1, 0.0, 0.04, 0.15, 0.24, 0.08, 0.1, 0.2, 0.03, 0.09, 0.07, 0.07, 0.1, 0.1, 0.13, 0.12, 0.1, 0.1, 0.09, 0.1, 0.11, 0.05, 0.07, 0.04, 0.05, 0.07, 0.03, 0.25, 0.1, 0.11, 0.1, 0.01, 0.07, 0.1, 0.09, 0.12, 0.08, 0.25, 0.13, 0.13, 0.08, 0.11, 0.12, 0.15, 0.09, 0.11, 0.1]}, {\"axis\": {\"matches\": true}, \"label\": \"UNS\", \"values\": [\"very_low\", \"very_low\", \"very_low\", \"very_low\", \"very_low\", \"very_low\", \"very_low\", \"very_low\", \"very_low\", \"very_low\", \"very_low\", \"very_low\", \"very_low\", \"very_low\", \"very_low\", \"very_low\", \"very_low\", \"very_low\", \"very_low\", \"very_low\", \"very_low\", \"very_low\", \"very_low\", \"very_low\", \"very_low\", \"very_low\", \"very_low\", \"very_low\", \"very_low\", \"very_low\", \"very_low\", \"very_low\", \"very_low\", \"very_low\", \"very_low\", \"very_low\", \"very_low\", \"very_low\", \"very_low\", \"very_low\", \"very_low\", \"very_low\", \"very_low\", \"very_low\", \"very_low\", \"very_low\", \"very_low\", \"very_low\", \"very_low\", \"very_low\"]}], \"hovertemplate\": \"UNS=very_low<br>%{xaxis.title.text}=%{x}<br>%{yaxis.title.text}=%{y}<extra></extra>\", \"legendgroup\": \"very_low\", \"marker\": {\"color\": \"#636efa\", \"symbol\": \"circle\"}, \"name\": \"very_low\", \"showlegend\": true, \"type\": \"splom\"}, {\"dimensions\": [{\"axis\": {\"matches\": true}, \"label\": \"STG\", \"values\": [0.08, 0.0, 0.18, 0.1, 0.12, 0.09, 0.08, 0.15, 0.18, 0.2, 0.2, 0.13, 0.18, 0.24, 0.18, 0.31, 0.28, 0.325, 0.323, 0.258, 0.299, 0.299, 0.32, 0.329, 0.315, 0.325, 0.325, 0.312, 0.299, 0.48, 0.46, 0.48, 0.49, 0.495, 0.445, 0.43, 0.4, 0.38, 0.41, 0.44, 0.49, 0.44, 0.45, 0.46, 0.495, 0.49, 0.42, 0.4, 0.78, 0.85, 0.9, 0.6, 0.77, 0.88, 0.99, 0.83, 0.66, 0.71, 0.91, 0.89, 0.61, 0.54, 0.66, 0.08, 0.2, 0.22, 0.2, 0.21, 0.23, 0.22, 0.2, 0.22, 0.2, 0.2, 0.21, 0.22, 0.11, 0.21, 0.21, 0.22, 0.2, 0.3, 0.31, 0.32, 0.33, 0.3, 0.32, 0.31, 0.32, 0.3, 0.31, 0.31, 0.47, 0.8, 0.75, 0.87, 0.9, 0.85, 0.78, 0.78, 0.9, 0.85]}, {\"axis\": {\"matches\": true}, \"label\": \"SCG\", \"values\": [0.08, 0.0, 0.18, 0.1, 0.12, 0.3, 0.325, 0.275, 0.32, 0.45, 0.49, 0.39, 0.34, 0.75, 0.51, 0.1, 0.16, 0.25, 0.32, 0.25, 0.32, 0.295, 0.28, 0.55, 0.69, 0.61, 0.9, 0.8, 0.7, 0.12, 0.2, 0.3, 0.245, 0.276, 0.39, 0.45, 0.33, 0.36, 0.49, 0.33, 0.34, 0.55, 0.65, 0.78, 0.82, 0.9, 0.7, 0.61, 0.21, 0.05, 0.26, 0.31, 0.29, 0.335, 0.49, 0.44, 0.36, 0.46, 0.58, 0.68, 0.78, 0.82, 0.9, 0.18, 0.2, 0.22, 0.2, 0.32, 0.29, 0.31, 0.32, 0.48, 0.49, 0.85, 0.78, 0.8, 0.88, 0.9, 0.88, 0.86, 0.78, 0.18, 0.2, 0.15, 0.2, 0.16, 0.2, 0.32, 0.31, 0.32, 0.32, 0.82, 0.47, 0.24, 0.22, 0.23, 0.31, 0.32, 0.47, 0.47, 0.78, 0.82]}, {\"axis\": {\"matches\": true}, \"label\": \"STR\", \"values\": [0.1, 0.5, 0.55, 0.7, 0.75, 0.68, 0.62, 0.8, 0.04, 0.28, 0.6, 0.85, 0.71, 0.32, 0.58, 0.41, 0.69, 0.38, 0.89, 0.295, 0.31, 0.8, 0.72, 0.02, 0.28, 0.46, 0.52, 0.67, 0.95, 0.28, 0.76, 0.15, 0.38, 0.58, 0.02, 0.27, 0.12, 0.46, 0.34, 0.59, 0.88, 0.11, 0.19, 0.38, 0.67, 0.52, 0.72, 0.71, 0.68, 0.91, 0.19, 0.31, 0.74, 0.19, 0.07, 0.49, 0.56, 0.95, 0.26, 0.49, 0.69, 0.71, 0.76, 0.63, 0.68, 0.9, 0.88, 0.25, 0.45, 0.42, 0.65, 0.47, 0.68, 0.24, 0.42, 0.44, 0.67, 0.9, 0.87, 0.83, 0.91, 0.23, 0.46, 0.66, 0.64, 0.89, 0.84, 0.29, 0.26, 0.43, 0.69, 0.47, 0.25, 0.23, 0.24, 0.25, 0.24, 0.22, 0.24, 0.29, 0.62, 0.66]}, {\"axis\": {\"matches\": true}, \"label\": \"LPR\", \"values\": [0.24, 0.2, 0.3, 0.15, 0.35, 0.18, 0.94, 0.21, 0.19, 0.31, 0.2, 0.38, 0.71, 0.18, 0.33, 0.42, 0.33, 0.31, 0.32, 0.33, 0.33, 0.37, 0.89, 0.4, 0.8, 0.32, 0.49, 0.92, 0.22, 0.7, 0.95, 0.65, 0.14, 0.77, 0.24, 0.27, 0.3, 0.49, 0.21, 0.53, 0.75, 0.26, 0.99, 0.24, 0.01, 0.9, 0.3, 0.88, 0.65, 0.8, 0.58, 0.87, 0.82, 0.55, 0.7, 0.91, 0.4, 0.78, 0.89, 0.65, 0.92, 0.29, 0.87, 0.6, 0.67, 0.3, 0.77, 0.5, 0.18, 0.88, 0.31, 0.78, 0.76, 0.79, 0.32, 0.78, 0.66, 0.22, 0.56, 0.89, 0.82, 0.9, 0.78, 0.24, 0.59, 0.32, 0.81, 0.31, 0.83, 0.87, 0.3, 0.4, 0.96, 0.29, 0.96, 0.85, 0.3, 0.87, 0.3, 0.98, 0.32, 0.83]}, {\"axis\": {\"matches\": true}, \"label\": \"PEG\", \"values\": [0.9, 0.85, 0.81, 0.9, 0.8, 0.85, 0.56, 0.81, 0.82, 0.78, 0.78, 0.77, 0.9, 0.86, 0.82, 0.75, 0.78, 0.79, 0.8, 0.77, 0.87, 0.84, 0.58, 0.79, 0.7, 0.81, 0.76, 0.5, 0.66, 0.71, 0.65, 0.77, 0.86, 0.83, 0.88, 0.89, 0.9, 0.78, 0.92, 0.85, 0.71, 0.83, 0.55, 0.89, 0.93, 0.47, 0.8, 0.67, 0.75, 0.68, 0.79, 0.58, 0.68, 0.78, 0.69, 0.66, 0.83, 0.86, 0.88, 0.9, 0.58, 0.77, 0.74, 0.85, 0.85, 0.9, 0.8, 0.8, 0.88, 0.8, 0.89, 0.81, 0.78, 0.85, 0.84, 0.88, 0.89, 0.92, 0.95, 0.65, 0.85, 0.84, 0.83, 0.82, 0.94, 0.95, 0.8, 0.96, 0.77, 0.83, 0.98, 0.99, 0.61, 0.98, 0.62, 0.8, 0.97, 0.79, 0.93, 0.59, 0.89, 0.83]}, {\"axis\": {\"matches\": true}, \"label\": \"UNS\", \"values\": [\"high\", \"high\", \"high\", \"high\", \"high\", \"high\", \"high\", \"high\", \"high\", \"high\", \"high\", \"high\", \"high\", \"high\", \"high\", \"high\", \"high\", \"high\", \"high\", \"high\", \"high\", \"high\", \"high\", \"high\", \"high\", \"high\", \"high\", \"high\", \"high\", \"high\", \"high\", \"high\", \"high\", \"high\", \"high\", \"high\", \"high\", \"high\", \"high\", \"high\", \"high\", \"high\", \"high\", \"high\", \"high\", \"high\", \"high\", \"high\", \"high\", \"high\", \"high\", \"high\", \"high\", \"high\", \"high\", \"high\", \"high\", \"high\", \"high\", \"high\", \"high\", \"high\", \"high\", \"high\", \"high\", \"high\", \"high\", \"high\", \"high\", \"high\", \"high\", \"high\", \"high\", \"high\", \"high\", \"high\", \"high\", \"high\", \"high\", \"high\", \"high\", \"high\", \"high\", \"high\", \"high\", \"high\", \"high\", \"high\", \"high\", \"high\", \"high\", \"high\", \"high\", \"high\", \"high\", \"high\", \"high\", \"high\", \"high\", \"high\", \"high\", \"high\"]}], \"hovertemplate\": \"UNS=high<br>%{xaxis.title.text}=%{x}<br>%{yaxis.title.text}=%{y}<extra></extra>\", \"legendgroup\": \"high\", \"marker\": {\"color\": \"#EF553B\", \"symbol\": \"circle\"}, \"name\": \"high\", \"showlegend\": true, \"type\": \"splom\"}, {\"dimensions\": [{\"axis\": {\"matches\": true}, \"label\": \"STG\", \"values\": [0.06, 0.08, 0.2, 0.06, 0.1, 0.15, 0.12, 0.18, 0.06, 0.09, 0.15, 0.1, 0.06, 0.1, 0.18, 0.02, 0.06, 0.09, 0.1, 0.08, 0.09, 0.2, 0.28, 0.265, 0.275, 0.295, 0.32, 0.25, 0.27, 0.27, 0.29, 0.288, 0.255, 0.295, 0.243, 0.27, 0.245, 0.295, 0.276, 0.258, 0.28, 0.255, 0.305, 0.265, 0.255, 0.39, 0.38, 0.37, 0.38, 0.39, 0.365, 0.345, 0.334, 0.39, 0.348, 0.35, 0.42, 0.4, 0.38, 0.39, 0.365, 0.37, 0.38, 0.49, 0.365, 0.55, 0.73, 0.69, 0.62, 0.6, 0.52, 0.58, 0.61, 0.58, 0.58, 0.61, 0.51, 0.58, 0.523, 0.5, 0.52, 0.58, 0.54, 0.05, 0.14, 0.12, 0.05, 0.19, 0.11, 0.12, 0.16, 0.18, 0.13, 0.14, 0.09, 0.12, 0.13, 0.25, 0.32, 0.26, 0.26, 0.28, 0.27, 0.27, 0.26, 0.28, 0.28, 0.25, 0.29, 0.28, 0.37, 0.37, 0.38, 0.38, 0.41, 0.42, 0.6, 0.65, 0.62, 0.56, 0.56, 0.61, 0.58, 0.57, 0.62, 0.64, 0.64, 0.68, 0.56]}, {\"axis\": {\"matches\": true}, \"label\": \"SCG\", \"values\": [0.06, 0.08, 0.14, 0.06, 0.25, 0.32, 0.28, 0.31, 0.29, 0.255, 0.295, 0.256, 0.35, 0.42, 0.4, 0.33, 0.5, 0.55, 0.6, 0.58, 0.61, 0.68, 0.1, 0.06, 0.1, 0.2, 0.12, 0.29, 0.1, 0.31, 0.29, 0.31, 0.305, 0.25, 0.27, 0.28, 0.26, 0.29, 0.255, 0.31, 0.65, 0.75, 0.55, 0.76, 0.72, 0.05, 0.1, 0.06, 0.01, 0.15, 0.243, 0.299, 0.295, 0.26, 0.329, 0.38, 0.36, 0.42, 0.39, 0.42, 0.68, 0.55, 0.59, 0.64, 0.57, 0.1, 0.2, 0.02, 0.14, 0.251, 0.288, 0.295, 0.258, 0.299, 0.348, 0.33, 0.4, 0.35, 0.41, 0.4, 0.85, 0.58, 0.51, 0.05, 0.14, 0.12, 0.29, 0.28, 0.26, 0.28, 0.28, 0.37, 0.4, 0.38, 0.38, 0.56, 0.62, 0.0, 0.02, 0.09, 0.12, 0.06, 0.03, 0.29, 0.26, 0.27, 0.29, 0.28, 0.66, 0.55, 0.09, 0.07, 0.09, 0.33, 0.37, 0.39, 0.08, 0.09, 0.12, 0.27, 0.35, 0.38, 0.4, 0.37, 0.56, 0.58, 0.59, 0.61, 0.6]}, {\"axis\": {\"matches\": true}, \"label\": \"STR\", \"values\": [0.05, 0.08, 0.35, 0.51, 0.1, 0.05, 0.2, 0.32, 0.35, 0.6, 0.75, 0.7, 0.12, 0.22, 0.32, 0.36, 0.09, 0.12, 0.33, 0.6, 0.53, 0.73, 0.12, 0.57, 0.72, 0.86, 0.79, 0.15, 0.1, 0.32, 0.4, 0.79, 0.86, 0.73, 0.08, 0.18, 0.38, 0.31, 0.81, 0.88, 0.4, 0.35, 0.5, 0.8, 0.72, 0.02, 0.4, 0.32, 0.53, 0.81, 0.19, 0.1, 0.33, 0.39, 0.83, 0.32, 0.63, 0.58, 0.79, 0.83, 0.1, 0.41, 0.31, 0.34, 0.59, 0.27, 0.07, 0.62, 0.52, 0.39, 0.32, 0.62, 0.56, 0.73, 0.06, 0.36, 0.4, 0.51, 0.55, 0.73, 0.06, 0.31, 0.55, 0.55, 0.7, 0.75, 0.58, 0.57, 0.56, 0.7, 0.72, 0.11, 0.17, 0.59, 0.54, 0.13, 0.77, 0.1, 0.34, 0.33, 0.34, 0.7, 0.76, 0.34, 0.35, 0.56, 0.57, 0.77, 0.35, 0.38, 0.1, 0.1, 0.37, 0.1, 0.79, 0.78, 0.13, 0.16, 0.36, 0.11, 0.1, 0.09, 0.32, 0.75, 0.11, 0.14, 0.12, 0.34, 0.77]}, {\"axis\": {\"matches\": true}, \"label\": \"LPR\", \"values\": [0.25, 0.98, 0.72, 0.41, 0.08, 0.27, 0.78, 0.42, 0.76, 0.45, 0.65, 0.76, 0.43, 0.72, 0.08, 0.76, 0.28, 0.78, 0.42, 0.64, 0.75, 0.48, 0.28, 0.75, 0.1, 0.44, 0.76, 0.48, 0.7, 0.41, 0.78, 0.23, 0.62, 0.77, 0.42, 0.48, 0.49, 0.76, 0.27, 0.4, 0.65, 0.72, 0.11, 0.28, 0.63, 0.06, 0.48, 0.78, 0.27, 0.22, 0.24, 0.64, 0.32, 0.77, 0.61, 0.6, 0.04, 0.75, 0.33, 0.65, 0.63, 0.29, 0.62, 0.78, 0.55, 0.25, 0.72, 0.3, 0.81, 0.29, 0.5, 0.28, 0.62, 0.63, 0.29, 0.28, 0.59, 0.27, 0.6, 0.62, 0.27, 0.29, 0.64, 0.6, 0.5, 0.68, 0.14, 0.58, 0.68, 0.16, 0.27, 0.28, 0.25, 0.11, 0.69, 0.48, 0.28, 0.12, 0.13, 0.28, 0.68, 0.27, 0.59, 0.28, 0.62, 0.14, 0.6, 0.11, 0.28, 0.9, 0.13, 0.41, 0.28, 0.07, 0.12, 0.32, 0.14, 0.49, 0.36, 0.59, 0.62, 0.38, 0.22, 0.27, 0.24, 0.32, 0.58, 0.31, 0.13]}, {\"axis\": {\"matches\": true}, \"label\": \"PEG\", \"values\": [0.33, 0.24, 0.25, 0.3, 0.33, 0.29, 0.2, 0.28, 0.25, 0.25, 0.24, 0.16, 0.29, 0.26, 0.33, 0.1, 0.25, 0.05, 0.26, 0.1, 0.01, 0.28, 0.32, 0.1, 0.3, 0.28, 0.24, 0.26, 0.25, 0.28, 0.18, 0.24, 0.15, 0.19, 0.29, 0.26, 0.27, 0.1, 0.33, 0.3, 0.13, 0.25, 0.333, 0.28, 0.14, 0.34, 0.26, 0.1, 0.3, 0.29, 0.35, 0.13, 0.3, 0.14, 0.18, 0.16, 0.25, 0.16, 0.3, 0.19, 0.18, 0.3, 0.2, 0.21, 0.25, 0.29, 0.26, 0.29, 0.15, 0.3, 0.3, 0.3, 0.24, 0.21, 0.31, 0.28, 0.23, 0.3, 0.22, 0.2, 0.25, 0.29, 0.19, 0.14, 0.3, 0.15, 0.32, 0.17, 0.27, 0.32, 0.32, 0.3, 0.38, 0.32, 0.21, 0.32, 0.31, 0.37, 0.31, 0.32, 0.29, 0.32, 0.23, 0.32, 0.24, 0.31, 0.27, 0.31, 0.31, 0.22, 0.32, 0.3, 0.32, 0.4, 0.32, 0.2, 0.32, 0.31, 0.32, 0.22, 0.23, 0.3, 0.24, 0.32, 0.22, 0.21, 0.24, 0.23, 0.32]}, {\"axis\": {\"matches\": true}, \"label\": \"UNS\", \"values\": [\"low\", \"low\", \"low\", \"low\", \"low\", \"low\", \"low\", \"low\", \"low\", \"low\", \"low\", \"low\", \"low\", \"low\", \"low\", \"low\", \"low\", \"low\", \"low\", \"low\", \"low\", \"low\", \"low\", \"low\", \"low\", \"low\", \"low\", \"low\", \"low\", \"low\", \"low\", \"low\", \"low\", \"low\", \"low\", \"low\", \"low\", \"low\", \"low\", \"low\", \"low\", \"low\", \"low\", \"low\", \"low\", \"low\", \"low\", \"low\", \"low\", \"low\", \"low\", \"low\", \"low\", \"low\", \"low\", \"low\", \"low\", \"low\", \"low\", \"low\", \"low\", \"low\", \"low\", \"low\", \"low\", \"low\", \"low\", \"low\", \"low\", \"low\", \"low\", \"low\", \"low\", \"low\", \"low\", \"low\", \"low\", \"low\", \"low\", \"low\", \"low\", \"low\", \"low\", \"low\", \"low\", \"low\", \"low\", \"low\", \"low\", \"low\", \"low\", \"low\", \"low\", \"low\", \"low\", \"low\", \"low\", \"low\", \"low\", \"low\", \"low\", \"low\", \"low\", \"low\", \"low\", \"low\", \"low\", \"low\", \"low\", \"low\", \"low\", \"low\", \"low\", \"low\", \"low\", \"low\", \"low\", \"low\", \"low\", \"low\", \"low\", \"low\", \"low\", \"low\", \"low\", \"low\", \"low\", \"low\", \"low\"]}], \"hovertemplate\": \"UNS=low<br>%{xaxis.title.text}=%{x}<br>%{yaxis.title.text}=%{y}<extra></extra>\", \"legendgroup\": \"low\", \"marker\": {\"color\": \"#00cc96\", \"symbol\": \"circle\"}, \"name\": \"low\", \"showlegend\": true, \"type\": \"splom\"}, {\"dimensions\": [{\"axis\": {\"matches\": true}, \"label\": \"STG\", \"values\": [0.1, 0.09, 0.1, 0.1, 0.2, 0.2, 0.18, 0.1, 0.12, 0.19, 0.14, 0.18, 0.17, 0.1, 0.09, 0.23, 0.18, 0.2, 0.09, 0.06, 0.15, 0.24, 0.29, 0.3, 0.27, 0.3, 0.295, 0.315, 0.29, 0.258, 0.32, 0.29, 0.3, 0.29, 0.26, 0.305, 0.32, 0.295, 0.285, 0.28, 0.3, 0.295, 0.4, 0.4, 0.41, 0.41, 0.42, 0.44, 0.42, 0.43, 0.44, 0.45, 0.465, 0.475, 0.385, 0.34, 0.43, 0.46, 0.46, 0.44, 0.445, 0.37, 0.6, 0.78, 0.64, 0.7, 0.75, 0.78, 0.8, 0.76, 0.72, 0.51, 0.77, 0.79, 0.68, 0.71, 0.73, 0.66, 0.62, 0.52, 0.64, 0.62, 0.62, 0.72, 0.68, 0.56, 0.78, 0.5, 0.16, 0.11, 0.13, 0.1, 0.18, 0.11, 0.18, 0.11, 0.15, 0.12, 0.14, 0.14, 0.18, 0.15, 0.29, 0.28, 0.28, 0.31, 0.28, 0.28, 0.27, 0.29, 0.4, 0.41, 0.42, 0.42, 0.4, 0.4, 0.43, 0.68, 0.68, 0.68, 0.66, 0.68]}, {\"axis\": {\"matches\": true}, \"label\": \"SCG\", \"values\": [0.1, 0.15, 0.1, 0.1, 0.2, 0.29, 0.3, 0.27, 0.245, 0.38, 0.49, 0.33, 0.36, 0.39, 0.51, 0.7, 0.72, 0.52, 0.6, 0.77, 0.79, 0.58, 0.06, 0.08, 0.12, 0.2, 0.25, 0.32, 0.3, 0.28, 0.255, 0.25, 0.27, 0.3, 0.28, 0.255, 0.27, 0.59, 0.64, 0.78, 0.85, 0.6, 0.18, 0.12, 0.18, 0.09, 0.15, 0.08, 0.21, 0.305, 0.32, 0.299, 0.258, 0.32, 0.26, 0.4, 0.38, 0.44, 0.64, 0.69, 0.7, 0.6, 0.14, 0.15, 0.09, 0.18, 0.015, 0.27, 0.29, 0.258, 0.32, 0.255, 0.267, 0.28, 0.27, 0.475, 0.43, 0.38, 0.37, 0.44, 0.55, 0.62, 0.67, 0.6, 0.63, 0.6, 0.61, 0.75, 0.16, 0.29, 0.28, 0.3, 0.29, 0.3, 0.31, 0.42, 0.42, 0.62, 0.65, 0.61, 0.7, 0.67, 0.1, 0.12, 0.16, 0.15, 0.29, 0.28, 0.28, 0.74, 0.15, 0.11, 0.13, 0.29, 0.3, 0.59, 0.65, 0.16, 0.15, 0.43, 0.68, 0.64]}, {\"axis\": {\"matches\": true}, \"label\": \"STR\", \"values\": [0.15, 0.4, 0.43, 0.52, 0.7, 0.25, 0.37, 0.31, 0.75, 0.38, 0.55, 0.61, 0.8, 0.75, 0.02, 0.19, 0.37, 0.36, 0.66, 0.72, 0.78, 0.76, 0.19, 0.4, 0.37, 0.52, 0.26, 0.29, 0.52, 0.64, 0.55, 0.29, 0.31, 0.56, 0.6, 0.63, 0.52, 0.29, 0.18, 0.44, 0.54, 0.72, 0.26, 0.41, 0.33, 0.58, 0.66, 0.8, 0.87, 0.51, 0.55, 0.63, 0.73, 0.79, 0.76, 0.38, 0.62, 0.89, 0.22, 0.61, 0.82, 0.77, 0.22, 0.38, 0.33, 0.88, 0.78, 0.13, 0.06, 0.07, 0.48, 0.55, 0.59, 0.88, 0.78, 0.13, 0.32, 0.55, 0.81, 0.82, 0.15, 0.24, 0.39, 0.45, 0.65, 0.6, 0.71, 0.81, 0.8, 0.2, 0.18, 0.58, 0.78, 0.79, 0.81, 0.38, 0.6, 0.21, 0.19, 0.39, 0.41, 0.56, 0.17, 0.38, 0.41, 0.58, 0.19, 0.38, 0.59, 0.39, 0.16, 0.21, 0.15, 0.14, 0.18, 0.77, 0.76, 0.2, 0.58, 0.6, 0.81, 0.79]}, {\"axis\": {\"matches\": true}, \"label\": \"LPR\", \"values\": [0.65, 0.1, 0.29, 0.78, 0.3, 0.49, 0.12, 0.29, 0.31, 0.49, 0.29, 0.64, 0.14, 0.31, 0.18, 0.51, 0.29, 0.84, 0.19, 0.19, 0.3, 0.8, 0.55, 0.02, 0.29, 0.3, 0.12, 0.29, 0.09, 0.29, 0.78, 0.29, 0.31, 0.25, 0.29, 0.4, 0.81, 0.31, 0.61, 0.17, 0.25, 0.88, 0.26, 0.1, 0.31, 0.18, 0.78, 0.22, 0.56, 0.09, 0.33, 0.36, 0.18, 0.31, 0.84, 0.2, 0.33, 0.12, 0.22, 0.29, 0.16, 0.4, 0.11, 0.18, 0.65, 0.09, 0.31, 0.14, 0.31, 0.83, 0.2, 0.17, 0.78, 0.2, 0.31, 0.23, 0.12, 0.15, 0.13, 0.3, 0.18, 0.65, 0.1, 0.79, 0.09, 0.31, 0.19, 0.61, 0.5, 0.05, 0.75, 0.28, 0.15, 0.8, 0.7, 0.82, 0.15, 0.3, 0.26, 0.56, 0.67, 0.07, 0.74, 0.17, 0.51, 0.76, 0.37, 0.29, 0.69, 0.41, 0.3, 0.44, 0.94, 0.03, 0.29, 0.99, 0.94, 0.59, 0.35, 0.47, 0.57, 0.97]}, {\"axis\": {\"matches\": true}, \"label\": \"PEG\", \"values\": [0.3, 0.66, 0.56, 0.34, 0.6, 0.56, 0.66, 0.65, 0.59, 0.45, 0.6, 0.25, 0.66, 0.62, 0.67, 0.45, 0.55, 0.25, 0.59, 0.56, 0.51, 0.28, 0.51, 0.67, 0.58, 0.53, 0.67, 0.62, 0.67, 0.56, 0.34, 0.57, 0.54, 0.67, 0.59, 0.54, 0.3, 0.55, 0.45, 0.66, 0.83, 0.28, 0.67, 0.65, 0.5, 0.58, 0.4, 0.56, 0.48, 0.64, 0.52, 0.51, 0.59, 0.54, 0.3, 0.61, 0.49, 0.66, 0.6, 0.57, 0.64, 0.5, 0.66, 0.63, 0.5, 0.66, 0.53, 0.62, 0.51, 0.34, 0.6, 0.64, 0.28, 0.66, 0.57, 0.59, 0.65, 0.62, 0.64, 0.52, 0.63, 0.25, 0.66, 0.45, 0.66, 0.5, 0.6, 0.26, 0.5, 0.66, 0.32, 0.55, 0.61, 0.32, 0.4, 0.31, 0.62, 0.59, 0.66, 0.56, 0.33, 0.66, 0.52, 0.6, 0.56, 0.52, 0.58, 0.62, 0.26, 0.54, 0.58, 0.57, 0.3, 0.68, 0.59, 0.24, 0.29, 0.6, 0.6, 0.55, 0.57, 0.24]}, {\"axis\": {\"matches\": true}, \"label\": \"UNS\", \"values\": [\"middle\", \"middle\", \"middle\", \"middle\", \"middle\", \"middle\", \"middle\", \"middle\", \"middle\", \"middle\", \"middle\", \"middle\", \"middle\", \"middle\", \"middle\", \"middle\", \"middle\", \"middle\", \"middle\", \"middle\", \"middle\", \"middle\", \"middle\", \"middle\", \"middle\", \"middle\", \"middle\", \"middle\", \"middle\", \"middle\", \"middle\", \"middle\", \"middle\", \"middle\", \"middle\", \"middle\", \"middle\", \"middle\", \"middle\", \"middle\", \"middle\", \"middle\", \"middle\", \"middle\", \"middle\", \"middle\", \"middle\", \"middle\", \"middle\", \"middle\", \"middle\", \"middle\", \"middle\", \"middle\", \"middle\", \"middle\", \"middle\", \"middle\", \"middle\", \"middle\", \"middle\", \"middle\", \"middle\", \"middle\", \"middle\", \"middle\", \"middle\", \"middle\", \"middle\", \"middle\", \"middle\", \"middle\", \"middle\", \"middle\", \"middle\", \"middle\", \"middle\", \"middle\", \"middle\", \"middle\", \"middle\", \"middle\", \"middle\", \"middle\", \"middle\", \"middle\", \"middle\", \"middle\", \"middle\", \"middle\", \"middle\", \"middle\", \"middle\", \"middle\", \"middle\", \"middle\", \"middle\", \"middle\", \"middle\", \"middle\", \"middle\", \"middle\", \"middle\", \"middle\", \"middle\", \"middle\", \"middle\", \"middle\", \"middle\", \"middle\", \"middle\", \"middle\", \"middle\", \"middle\", \"middle\", \"middle\", \"middle\", \"middle\", \"middle\", \"middle\", \"middle\", \"middle\"]}], \"hovertemplate\": \"UNS=middle<br>%{xaxis.title.text}=%{x}<br>%{yaxis.title.text}=%{y}<extra></extra>\", \"legendgroup\": \"middle\", \"marker\": {\"color\": \"#ab63fa\", \"symbol\": \"circle\"}, \"name\": \"middle\", \"showlegend\": true, \"type\": \"splom\"}],                        {\"dragmode\": \"select\", \"height\": 1000, \"legend\": {\"title\": {\"text\": \"UNS\"}, \"tracegroupgap\": 0}, \"margin\": {\"t\": 60}, \"template\": {\"data\": {\"bar\": [{\"error_x\": {\"color\": \"#2a3f5f\"}, \"error_y\": {\"color\": \"#2a3f5f\"}, \"marker\": {\"line\": {\"color\": \"#E5ECF6\", \"width\": 0.5}}, \"type\": \"bar\"}], \"barpolar\": [{\"marker\": {\"line\": {\"color\": \"#E5ECF6\", \"width\": 0.5}}, \"type\": \"barpolar\"}], \"carpet\": [{\"aaxis\": {\"endlinecolor\": \"#2a3f5f\", \"gridcolor\": \"white\", \"linecolor\": \"white\", \"minorgridcolor\": \"white\", \"startlinecolor\": \"#2a3f5f\"}, \"baxis\": {\"endlinecolor\": \"#2a3f5f\", \"gridcolor\": \"white\", \"linecolor\": \"white\", \"minorgridcolor\": \"white\", \"startlinecolor\": \"#2a3f5f\"}, \"type\": \"carpet\"}], \"choropleth\": [{\"colorbar\": {\"outlinewidth\": 0, \"ticks\": \"\"}, \"type\": \"choropleth\"}], \"contour\": [{\"colorbar\": {\"outlinewidth\": 0, \"ticks\": \"\"}, \"colorscale\": [[0.0, \"#0d0887\"], [0.1111111111111111, \"#46039f\"], [0.2222222222222222, \"#7201a8\"], [0.3333333333333333, \"#9c179e\"], [0.4444444444444444, \"#bd3786\"], [0.5555555555555556, \"#d8576b\"], [0.6666666666666666, \"#ed7953\"], [0.7777777777777778, \"#fb9f3a\"], [0.8888888888888888, \"#fdca26\"], [1.0, \"#f0f921\"]], \"type\": \"contour\"}], \"contourcarpet\": [{\"colorbar\": {\"outlinewidth\": 0, \"ticks\": \"\"}, \"type\": \"contourcarpet\"}], \"heatmap\": [{\"colorbar\": {\"outlinewidth\": 0, \"ticks\": \"\"}, \"colorscale\": [[0.0, \"#0d0887\"], [0.1111111111111111, \"#46039f\"], [0.2222222222222222, \"#7201a8\"], [0.3333333333333333, \"#9c179e\"], [0.4444444444444444, \"#bd3786\"], [0.5555555555555556, \"#d8576b\"], [0.6666666666666666, \"#ed7953\"], [0.7777777777777778, \"#fb9f3a\"], [0.8888888888888888, \"#fdca26\"], [1.0, \"#f0f921\"]], \"type\": \"heatmap\"}], \"heatmapgl\": [{\"colorbar\": {\"outlinewidth\": 0, \"ticks\": \"\"}, \"colorscale\": [[0.0, \"#0d0887\"], [0.1111111111111111, \"#46039f\"], [0.2222222222222222, \"#7201a8\"], [0.3333333333333333, \"#9c179e\"], [0.4444444444444444, \"#bd3786\"], [0.5555555555555556, \"#d8576b\"], [0.6666666666666666, \"#ed7953\"], [0.7777777777777778, \"#fb9f3a\"], [0.8888888888888888, \"#fdca26\"], [1.0, \"#f0f921\"]], \"type\": \"heatmapgl\"}], \"histogram\": [{\"marker\": {\"colorbar\": {\"outlinewidth\": 0, \"ticks\": \"\"}}, \"type\": \"histogram\"}], \"histogram2d\": [{\"colorbar\": {\"outlinewidth\": 0, \"ticks\": \"\"}, \"colorscale\": [[0.0, \"#0d0887\"], [0.1111111111111111, \"#46039f\"], [0.2222222222222222, \"#7201a8\"], [0.3333333333333333, \"#9c179e\"], [0.4444444444444444, \"#bd3786\"], [0.5555555555555556, \"#d8576b\"], [0.6666666666666666, \"#ed7953\"], [0.7777777777777778, \"#fb9f3a\"], [0.8888888888888888, \"#fdca26\"], [1.0, \"#f0f921\"]], \"type\": \"histogram2d\"}], \"histogram2dcontour\": [{\"colorbar\": {\"outlinewidth\": 0, \"ticks\": \"\"}, \"colorscale\": [[0.0, \"#0d0887\"], [0.1111111111111111, \"#46039f\"], [0.2222222222222222, \"#7201a8\"], [0.3333333333333333, \"#9c179e\"], [0.4444444444444444, \"#bd3786\"], [0.5555555555555556, \"#d8576b\"], [0.6666666666666666, \"#ed7953\"], [0.7777777777777778, \"#fb9f3a\"], [0.8888888888888888, \"#fdca26\"], [1.0, \"#f0f921\"]], \"type\": \"histogram2dcontour\"}], \"mesh3d\": [{\"colorbar\": {\"outlinewidth\": 0, \"ticks\": \"\"}, \"type\": \"mesh3d\"}], \"parcoords\": [{\"line\": {\"colorbar\": {\"outlinewidth\": 0, \"ticks\": \"\"}}, \"type\": \"parcoords\"}], \"pie\": [{\"automargin\": true, \"type\": \"pie\"}], \"scatter\": [{\"marker\": {\"colorbar\": {\"outlinewidth\": 0, \"ticks\": \"\"}}, \"type\": \"scatter\"}], \"scatter3d\": [{\"line\": {\"colorbar\": {\"outlinewidth\": 0, \"ticks\": \"\"}}, \"marker\": {\"colorbar\": {\"outlinewidth\": 0, \"ticks\": \"\"}}, \"type\": \"scatter3d\"}], \"scattercarpet\": [{\"marker\": {\"colorbar\": {\"outlinewidth\": 0, \"ticks\": \"\"}}, \"type\": \"scattercarpet\"}], \"scattergeo\": [{\"marker\": {\"colorbar\": {\"outlinewidth\": 0, \"ticks\": \"\"}}, \"type\": \"scattergeo\"}], \"scattergl\": [{\"marker\": {\"colorbar\": {\"outlinewidth\": 0, \"ticks\": \"\"}}, \"type\": \"scattergl\"}], \"scattermapbox\": [{\"marker\": {\"colorbar\": {\"outlinewidth\": 0, \"ticks\": \"\"}}, \"type\": \"scattermapbox\"}], \"scatterpolar\": [{\"marker\": {\"colorbar\": {\"outlinewidth\": 0, \"ticks\": \"\"}}, \"type\": \"scatterpolar\"}], \"scatterpolargl\": [{\"marker\": {\"colorbar\": {\"outlinewidth\": 0, \"ticks\": \"\"}}, \"type\": \"scatterpolargl\"}], \"scatterternary\": [{\"marker\": {\"colorbar\": {\"outlinewidth\": 0, \"ticks\": \"\"}}, \"type\": \"scatterternary\"}], \"surface\": [{\"colorbar\": {\"outlinewidth\": 0, \"ticks\": \"\"}, \"colorscale\": [[0.0, \"#0d0887\"], [0.1111111111111111, \"#46039f\"], [0.2222222222222222, \"#7201a8\"], [0.3333333333333333, \"#9c179e\"], [0.4444444444444444, \"#bd3786\"], [0.5555555555555556, \"#d8576b\"], [0.6666666666666666, \"#ed7953\"], [0.7777777777777778, \"#fb9f3a\"], [0.8888888888888888, \"#fdca26\"], [1.0, \"#f0f921\"]], \"type\": \"surface\"}], \"table\": [{\"cells\": {\"fill\": {\"color\": \"#EBF0F8\"}, \"line\": {\"color\": \"white\"}}, \"header\": {\"fill\": {\"color\": \"#C8D4E3\"}, \"line\": {\"color\": \"white\"}}, \"type\": \"table\"}]}, \"layout\": {\"annotationdefaults\": {\"arrowcolor\": \"#2a3f5f\", \"arrowhead\": 0, \"arrowwidth\": 1}, \"autotypenumbers\": \"strict\", \"coloraxis\": {\"colorbar\": {\"outlinewidth\": 0, \"ticks\": \"\"}}, \"colorscale\": {\"diverging\": [[0, \"#8e0152\"], [0.1, \"#c51b7d\"], [0.2, \"#de77ae\"], [0.3, \"#f1b6da\"], [0.4, \"#fde0ef\"], [0.5, \"#f7f7f7\"], [0.6, \"#e6f5d0\"], [0.7, \"#b8e186\"], [0.8, \"#7fbc41\"], [0.9, \"#4d9221\"], [1, \"#276419\"]], \"sequential\": [[0.0, \"#0d0887\"], [0.1111111111111111, \"#46039f\"], [0.2222222222222222, \"#7201a8\"], [0.3333333333333333, \"#9c179e\"], [0.4444444444444444, \"#bd3786\"], [0.5555555555555556, \"#d8576b\"], [0.6666666666666666, \"#ed7953\"], [0.7777777777777778, \"#fb9f3a\"], [0.8888888888888888, \"#fdca26\"], [1.0, \"#f0f921\"]], \"sequentialminus\": [[0.0, \"#0d0887\"], [0.1111111111111111, \"#46039f\"], [0.2222222222222222, \"#7201a8\"], [0.3333333333333333, \"#9c179e\"], [0.4444444444444444, \"#bd3786\"], [0.5555555555555556, \"#d8576b\"], [0.6666666666666666, \"#ed7953\"], [0.7777777777777778, \"#fb9f3a\"], [0.8888888888888888, \"#fdca26\"], [1.0, \"#f0f921\"]]}, \"colorway\": [\"#636efa\", \"#EF553B\", \"#00cc96\", \"#ab63fa\", \"#FFA15A\", \"#19d3f3\", \"#FF6692\", \"#B6E880\", \"#FF97FF\", \"#FECB52\"], \"font\": {\"color\": \"#2a3f5f\"}, \"geo\": {\"bgcolor\": \"white\", \"lakecolor\": \"white\", \"landcolor\": \"#E5ECF6\", \"showlakes\": true, \"showland\": true, \"subunitcolor\": \"white\"}, \"hoverlabel\": {\"align\": \"left\"}, \"hovermode\": \"closest\", \"mapbox\": {\"style\": \"light\"}, \"paper_bgcolor\": \"white\", \"plot_bgcolor\": \"#E5ECF6\", \"polar\": {\"angularaxis\": {\"gridcolor\": \"white\", \"linecolor\": \"white\", \"ticks\": \"\"}, \"bgcolor\": \"#E5ECF6\", \"radialaxis\": {\"gridcolor\": \"white\", \"linecolor\": \"white\", \"ticks\": \"\"}}, \"scene\": {\"xaxis\": {\"backgroundcolor\": \"#E5ECF6\", \"gridcolor\": \"white\", \"gridwidth\": 2, \"linecolor\": \"white\", \"showbackground\": true, \"ticks\": \"\", \"zerolinecolor\": \"white\"}, \"yaxis\": {\"backgroundcolor\": \"#E5ECF6\", \"gridcolor\": \"white\", \"gridwidth\": 2, \"linecolor\": \"white\", \"showbackground\": true, \"ticks\": \"\", \"zerolinecolor\": \"white\"}, \"zaxis\": {\"backgroundcolor\": \"#E5ECF6\", \"gridcolor\": \"white\", \"gridwidth\": 2, \"linecolor\": \"white\", \"showbackground\": true, \"ticks\": \"\", \"zerolinecolor\": \"white\"}}, \"shapedefaults\": {\"line\": {\"color\": \"#2a3f5f\"}}, \"ternary\": {\"aaxis\": {\"gridcolor\": \"white\", \"linecolor\": \"white\", \"ticks\": \"\"}, \"baxis\": {\"gridcolor\": \"white\", \"linecolor\": \"white\", \"ticks\": \"\"}, \"bgcolor\": \"#E5ECF6\", \"caxis\": {\"gridcolor\": \"white\", \"linecolor\": \"white\", \"ticks\": \"\"}}, \"title\": {\"x\": 0.05}, \"xaxis\": {\"automargin\": true, \"gridcolor\": \"white\", \"linecolor\": \"white\", \"ticks\": \"\", \"title\": {\"standoff\": 15}, \"zerolinecolor\": \"white\", \"zerolinewidth\": 2}, \"yaxis\": {\"automargin\": true, \"gridcolor\": \"white\", \"linecolor\": \"white\", \"ticks\": \"\", \"title\": {\"standoff\": 15}, \"zerolinecolor\": \"white\", \"zerolinewidth\": 2}}}, \"width\": 1000},                        {\"responsive\": true}                    ).then(function(){\n",
       "                            \n",
       "var gd = document.getElementById('89cdc891-be97-41a7-a3a2-c55de24bfd0e');\n",
       "var x = new MutationObserver(function (mutations, observer) {{\n",
       "        var display = window.getComputedStyle(gd).display;\n",
       "        if (!display || display === 'none') {{\n",
       "            console.log([gd, 'removed!']);\n",
       "            Plotly.purge(gd);\n",
       "            observer.disconnect();\n",
       "        }}\n",
       "}});\n",
       "\n",
       "// Listen for the removal of the full notebook cells\n",
       "var notebookContainer = gd.closest('#notebook-container');\n",
       "if (notebookContainer) {{\n",
       "    x.observe(notebookContainer, {childList: true});\n",
       "}}\n",
       "\n",
       "// Listen for the clearing of the current output cell\n",
       "var outputEl = gd.closest('.output');\n",
       "if (outputEl) {{\n",
       "    x.observe(outputEl, {childList: true});\n",
       "}}\n",
       "\n",
       "                        })                };                });            </script>        </div>"
      ]
     },
     "metadata": {},
     "output_type": "display_data"
    }
   ],
   "source": [
    "fig = px.scatter_matrix(df,color = \"UNS\",height = 1000,width = 1000)\n",
    "fig.show()"
   ]
  },
  {
   "cell_type": "code",
   "execution_count": 41,
   "id": "8f3bbe5e",
   "metadata": {},
   "outputs": [],
   "source": [
    "#Data preprocessing for Machine Learning\n",
    "from sklearn.preprocessing import LabelEncoder\n",
    "le=LabelEncoder()\n",
    "y = df.UNS\n",
    "x = df.drop([\"UNS\"],axis= 1)"
   ]
  },
  {
   "cell_type": "code",
   "execution_count": 42,
   "id": "a473a761",
   "metadata": {},
   "outputs": [],
   "source": [
    "# Train - Test split\n",
    "from sklearn.model_selection import train_test_split\n",
    "X_train,X_test,Y_train,Y_test = train_test_split(x,y,test_size = 0.33,random_state = 42)"
   ]
  },
  {
   "cell_type": "code",
   "execution_count": 43,
   "id": "b71f27f8",
   "metadata": {},
   "outputs": [],
   "source": [
    "from sklearn.svm import SVC\n",
    "from sklearn.neighbors import KNeighborsClassifier\n",
    "from sklearn.ensemble import RandomForestClassifier,VotingClassifier\n",
    "from sklearn.metrics import confusion_matrix,classification_report\n",
    "from sklearn.model_selection import StratifiedKFold, GridSearchCV\n",
    "from sklearn.metrics import accuracy_score"
   ]
  },
  {
   "cell_type": "code",
   "execution_count": 44,
   "id": "a2c4c8a4",
   "metadata": {},
   "outputs": [
    {
     "name": "stdout",
     "output_type": "stream",
     "text": [
      "Train Score:  0.9777777777777777\n",
      "Test Score:  0.9172932330827067\n"
     ]
    },
    {
     "data": {
      "image/png": "[encoded data removed]",
      "text/plain": [
       "<Figure size 432x288 with 2 Axes>"
      ]
     },
     "metadata": {
      "needs_background": "light"
     },
     "output_type": "display_data"
    }
   ],
   "source": [
    "modelSVC=SVC(random_state=42).fit(X_train,Y_train)\n",
    "preds_SVC=modelSVC.predict(X_test)\n",
    "print(\"Train Score: \",modelSVC.score(X_train,Y_train))\n",
    "print(\"Test Score: \",modelSVC.score(X_test,Y_test))\n",
    "cmSVC = confusion_matrix(Y_test,preds_SVC)\n",
    "sns.heatmap(cmSVC,annot = True,xticklabels= ['high', 'low', 'middle', 'very_low'],yticklabels = ['high', 'low', 'middle', 'very_low'])\n",
    "plt.yticks(rotation = 0)\n",
    "plt.show()"
   ]
  },
  {
   "cell_type": "code",
   "execution_count": 48,
   "id": "00ea8ee8",
   "metadata": {},
   "outputs": [
    {
     "name": "stdout",
     "output_type": "stream",
     "text": [
      "Microaverage precision 0.9172932330827067\n",
      "Macroaverage precision 0.9405252274607113\n"
     ]
    }
   ],
   "source": [
    "## Average is assigned micro#\n",
    "from sklearn.metrics import precision_score\n",
    "#precisionScore_sklearn_microavg = precision_score(Y_test, preds_SVC, average='micro')\n",
    "print(\"Microaverage precision\",precision_score(Y_test, preds_SVC, average='micro'))\n",
    "print(\"Macroaverage precision\",precision_score(Y_test, preds_SVC, average='macro'))\n",
    "## Average is assigned macro#\n",
    "#precisionScore_sklearn_macroavg = precision_score(Y_test, preds_SVC, average='macro')"
   ]
  },
  {
   "cell_type": "code",
   "execution_count": null,
   "id": "652e6776",
   "metadata": {},
   "outputs": [],
   "source": []
  }
 ],
 "metadata": {
  "kernelspec": {
   "display_name": "Python 3",
   "language": "python",
   "name": "python3"
  },
  "language_info": {
   "codemirror_mode": {
    "name": "ipython",
    "version": 3
   },
   "file_extension": ".py",
   "mimetype": "text/x-python",
   "name": "python",
   "nbconvert_exporter": "python",
   "pygments_lexer": "ipython3",
   "version": "3.8.8"
  }
 },
 "nbformat": 4,
 "nbformat_minor": 5
}
